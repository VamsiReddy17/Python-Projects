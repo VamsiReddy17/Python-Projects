{
 "cells": [
  {
   "cell_type": "code",
   "execution_count": 1,
   "metadata": {},
   "outputs": [],
   "source": [
    "import pandas as pd\n",
    "import numpy as np\n",
    "import matplotlib.pyplot as plt\n",
    "import plotly.express as px\n",
    "import seaborn as sns\n",
    "import matplotlib.pyplot as plt\n",
    "from wordcloud import WordCloud, STOPWORDS\n",
    "from collections import Counter\n",
    "import pandas as pd\n",
    "import warnings\n",
    "warnings.filterwarnings('ignore')"
   ]
  },
  {
   "cell_type": "code",
   "execution_count": 2,
   "metadata": {},
   "outputs": [
    {
     "data": {
      "text/html": [
       "<div>\n",
       "<style scoped>\n",
       "    .dataframe tbody tr th:only-of-type {\n",
       "        vertical-align: middle;\n",
       "    }\n",
       "\n",
       "    .dataframe tbody tr th {\n",
       "        vertical-align: top;\n",
       "    }\n",
       "\n",
       "    .dataframe thead th {\n",
       "        text-align: right;\n",
       "    }\n",
       "</style>\n",
       "<table border=\"1\" class=\"dataframe\">\n",
       "  <thead>\n",
       "    <tr style=\"text-align: right;\">\n",
       "      <th></th>\n",
       "      <th>City</th>\n",
       "      <th>Country</th>\n",
       "      <th>Population_2023</th>\n",
       "      <th>Growth_Rate (%)</th>\n",
       "      <th>Population_2024</th>\n",
       "    </tr>\n",
       "  </thead>\n",
       "  <tbody>\n",
       "    <tr>\n",
       "      <th>0</th>\n",
       "      <td>Los Angeles</td>\n",
       "      <td>USA</td>\n",
       "      <td>26836512</td>\n",
       "      <td>1.308574</td>\n",
       "      <td>27187687</td>\n",
       "    </tr>\n",
       "    <tr>\n",
       "      <th>1</th>\n",
       "      <td>Shanghai</td>\n",
       "      <td>China</td>\n",
       "      <td>11673774</td>\n",
       "      <td>1.568945</td>\n",
       "      <td>11856929</td>\n",
       "    </tr>\n",
       "    <tr>\n",
       "      <th>2</th>\n",
       "      <td>Cairo</td>\n",
       "      <td>Egypt</td>\n",
       "      <td>22201723</td>\n",
       "      <td>4.871278</td>\n",
       "      <td>23283230</td>\n",
       "    </tr>\n",
       "    <tr>\n",
       "      <th>3</th>\n",
       "      <td>Mumbai</td>\n",
       "      <td>India</td>\n",
       "      <td>11440139</td>\n",
       "      <td>1.314396</td>\n",
       "      <td>11590507</td>\n",
       "    </tr>\n",
       "    <tr>\n",
       "      <th>4</th>\n",
       "      <td>Los Angeles</td>\n",
       "      <td>USA</td>\n",
       "      <td>3792427</td>\n",
       "      <td>4.344733</td>\n",
       "      <td>3957197</td>\n",
       "    </tr>\n",
       "  </tbody>\n",
       "</table>\n",
       "</div>"
      ],
      "text/plain": [
       "          City Country  Population_2023  Growth_Rate (%)  Population_2024\n",
       "0  Los Angeles     USA         26836512         1.308574         27187687\n",
       "1     Shanghai   China         11673774         1.568945         11856929\n",
       "2        Cairo   Egypt         22201723         4.871278         23283230\n",
       "3       Mumbai   India         11440139         1.314396         11590507\n",
       "4  Los Angeles     USA          3792427         4.344733          3957197"
      ]
     },
     "execution_count": 2,
     "metadata": {},
     "output_type": "execute_result"
    }
   ],
   "source": [
    "df = pd.read_csv(\"C:\\\\Users\\\\satis\\\\OneDrive\\\\Desktop\\\\Data Science\\\\python\\\\Dataset\\\\global_population_growth_2024.csv\")\n",
    "\n",
    "df.head()"
   ]
  },
  {
   "cell_type": "code",
   "execution_count": 3,
   "metadata": {},
   "outputs": [
    {
     "name": "stdout",
     "output_type": "stream",
     "text": [
      "<class 'pandas.core.frame.DataFrame'>\n",
      "RangeIndex: 1000 entries, 0 to 999\n",
      "Data columns (total 5 columns):\n",
      " #   Column           Non-Null Count  Dtype  \n",
      "---  ------           --------------  -----  \n",
      " 0   City             1000 non-null   object \n",
      " 1   Country          1000 non-null   object \n",
      " 2   Population_2023  1000 non-null   int64  \n",
      " 3   Growth_Rate (%)  1000 non-null   float64\n",
      " 4   Population_2024  1000 non-null   int64  \n",
      "dtypes: float64(1), int64(2), object(2)\n",
      "memory usage: 39.2+ KB\n"
     ]
    }
   ],
   "source": [
    "\n",
    "df.info()"
   ]
  },
  {
   "cell_type": "code",
   "execution_count": 4,
   "metadata": {},
   "outputs": [
    {
     "data": {
      "text/html": [
       "<div>\n",
       "<style scoped>\n",
       "    .dataframe tbody tr th:only-of-type {\n",
       "        vertical-align: middle;\n",
       "    }\n",
       "\n",
       "    .dataframe tbody tr th {\n",
       "        vertical-align: top;\n",
       "    }\n",
       "\n",
       "    .dataframe thead th {\n",
       "        text-align: right;\n",
       "    }\n",
       "</style>\n",
       "<table border=\"1\" class=\"dataframe\">\n",
       "  <thead>\n",
       "    <tr style=\"text-align: right;\">\n",
       "      <th></th>\n",
       "      <th>count</th>\n",
       "      <th>mean</th>\n",
       "      <th>std</th>\n",
       "      <th>min</th>\n",
       "      <th>25%</th>\n",
       "      <th>50%</th>\n",
       "      <th>75%</th>\n",
       "      <th>max</th>\n",
       "    </tr>\n",
       "  </thead>\n",
       "  <tbody>\n",
       "    <tr>\n",
       "      <th>Population_2023</th>\n",
       "      <td>1000.0</td>\n",
       "      <td>1.555745e+07</td>\n",
       "      <td>8.188922e+06</td>\n",
       "      <td>1.076218e+06</td>\n",
       "      <td>8.767388e+06</td>\n",
       "      <td>1.538409e+07</td>\n",
       "      <td>2.265558e+07</td>\n",
       "      <td>2.999429e+07</td>\n",
       "    </tr>\n",
       "    <tr>\n",
       "      <th>Growth_Rate (%)</th>\n",
       "      <td>1000.0</td>\n",
       "      <td>2.738825e+00</td>\n",
       "      <td>1.296754e+00</td>\n",
       "      <td>5.070430e-01</td>\n",
       "      <td>1.606459e+00</td>\n",
       "      <td>2.782955e+00</td>\n",
       "      <td>3.819846e+00</td>\n",
       "      <td>4.997362e+00</td>\n",
       "    </tr>\n",
       "    <tr>\n",
       "      <th>Population_2024</th>\n",
       "      <td>1000.0</td>\n",
       "      <td>1.598217e+07</td>\n",
       "      <td>8.415373e+06</td>\n",
       "      <td>1.082482e+06</td>\n",
       "      <td>8.914246e+06</td>\n",
       "      <td>1.589204e+07</td>\n",
       "      <td>2.322489e+07</td>\n",
       "      <td>3.122415e+07</td>\n",
       "    </tr>\n",
       "  </tbody>\n",
       "</table>\n",
       "</div>"
      ],
      "text/plain": [
       "                  count          mean           std           min  \\\n",
       "Population_2023  1000.0  1.555745e+07  8.188922e+06  1.076218e+06   \n",
       "Growth_Rate (%)  1000.0  2.738825e+00  1.296754e+00  5.070430e-01   \n",
       "Population_2024  1000.0  1.598217e+07  8.415373e+06  1.082482e+06   \n",
       "\n",
       "                          25%           50%           75%           max  \n",
       "Population_2023  8.767388e+06  1.538409e+07  2.265558e+07  2.999429e+07  \n",
       "Growth_Rate (%)  1.606459e+00  2.782955e+00  3.819846e+00  4.997362e+00  \n",
       "Population_2024  8.914246e+06  1.589204e+07  2.322489e+07  3.122415e+07  "
      ]
     },
     "execution_count": 4,
     "metadata": {},
     "output_type": "execute_result"
    }
   ],
   "source": [
    "df.describe().T"
   ]
  },
  {
   "cell_type": "code",
   "execution_count": 5,
   "metadata": {},
   "outputs": [
    {
     "data": {
      "text/plain": [
       "<Axes: >"
      ]
     },
     "execution_count": 5,
     "metadata": {},
     "output_type": "execute_result"
    },
    {
     "data": {
      "image/png": "[encoded data removed]",
      "text/plain": [
       "<Figure size 640x480 with 1 Axes>"
      ]
     },
     "metadata": {},
     "output_type": "display_data"
    }
   ],
   "source": [
    "df.describe(include='all').plot(kind='bar')"
   ]
  },
  {
   "cell_type": "code",
   "execution_count": 11,
   "metadata": {},
   "outputs": [
    {
     "data": {
      "application/vnd.plotly.v1+json": {
       "config": {
        "plotlyServerURL": "https://plot.ly"
       },
       "data": [
        {
         "coloraxis": "coloraxis",
         "hovertemplate": "x: %{x}<br>y: %{y}<br>color: %{z}<extra></extra>",
         "name": "0",
         "texttemplate": "%{z}",
         "type": "heatmap",
         "x": [
          "Population_2023",
          "Growth_Rate (%)",
          "Population_2024"
         ],
         "xaxis": "x",
         "y": [
          "Population_2023",
          "Growth_Rate (%)",
          "Population_2024"
         ],
         "yaxis": "y",
         "z": [
          [
           1,
           -0.012903656522387159,
           0.999644035477848
          ],
          [
           -0.012903656522387159,
           1,
           0.010588317245683338
          ],
          [
           0.999644035477848,
           0.010588317245683338,
           1
          ]
         ]
        }
       ],
       "layout": {
        "coloraxis": {
         "colorscale": [
          [
           0,
           "rgb(5,48,97)"
          ],
          [
           0.1,
           "rgb(33,102,172)"
          ],
          [
           0.2,
           "rgb(67,147,195)"
          ],
          [
           0.3,
           "rgb(146,197,222)"
          ],
          [
           0.4,
           "rgb(209,229,240)"
          ],
          [
           0.5,
           "rgb(247,247,247)"
          ],
          [
           0.6,
           "rgb(253,219,199)"
          ],
          [
           0.7,
           "rgb(244,165,130)"
          ],
          [
           0.8,
           "rgb(214,96,77)"
          ],
          [
           0.9,
           "rgb(178,24,43)"
          ],
          [
           1,
           "rgb(103,0,31)"
          ]
         ]
        },
        "margin": {
         "t": 60
        },
        "template": {
         "data": {
          "bar": [
           {
            "error_x": {
             "color": "#2a3f5f"
            },
            "error_y": {
             "color": "#2a3f5f"
            },
            "marker": {
             "line": {
              "color": "#E5ECF6",
              "width": 0.5
             },
             "pattern": {
              "fillmode": "overlay",
              "size": 10,
              "solidity": 0.2
             }
            },
            "type": "bar"
           }
          ],
          "barpolar": [
           {
            "marker": {
             "line": {
              "color": "#E5ECF6",
              "width": 0.5
             },
             "pattern": {
              "fillmode": "overlay",
              "size": 10,
              "solidity": 0.2
             }
            },
            "type": "barpolar"
           }
          ],
          "carpet": [
           {
            "aaxis": {
             "endlinecolor": "#2a3f5f",
             "gridcolor": "white",
             "linecolor": "white",
             "minorgridcolor": "white",
             "startlinecolor": "#2a3f5f"
            },
            "baxis": {
             "endlinecolor": "#2a3f5f",
             "gridcolor": "white",
             "linecolor": "white",
             "minorgridcolor": "white",
             "startlinecolor": "#2a3f5f"
            },
            "type": "carpet"
           }
          ],
          "choropleth": [
           {
            "colorbar": {
             "outlinewidth": 0,
             "ticks": ""
            },
            "type": "choropleth"
           }
          ],
          "contour": [
           {
            "colorbar": {
             "outlinewidth": 0,
             "ticks": ""
            },
            "colorscale": [
             [
              0,
              "#0d0887"
             ],
             [
              0.1111111111111111,
              "#46039f"
             ],
             [
              0.2222222222222222,
              "#7201a8"
             ],
             [
              0.3333333333333333,
              "#9c179e"
             ],
             [
              0.4444444444444444,
              "#bd3786"
             ],
             [
              0.5555555555555556,
              "#d8576b"
             ],
             [
              0.6666666666666666,
              "#ed7953"
             ],
             [
              0.7777777777777778,
              "#fb9f3a"
             ],
             [
              0.8888888888888888,
              "#fdca26"
             ],
             [
              1,
              "#f0f921"
             ]
            ],
            "type": "contour"
           }
          ],
          "contourcarpet": [
           {
            "colorbar": {
             "outlinewidth": 0,
             "ticks": ""
            },
            "type": "contourcarpet"
           }
          ],
          "heatmap": [
           {
            "colorbar": {
             "outlinewidth": 0,
             "ticks": ""
            },
            "colorscale": [
             [
              0,
              "#0d0887"
             ],
             [
              0.1111111111111111,
              "#46039f"
             ],
             [
              0.2222222222222222,
              "#7201a8"
             ],
             [
              0.3333333333333333,
              "#9c179e"
             ],
             [
              0.4444444444444444,
              "#bd3786"
             ],
             [
              0.5555555555555556,
              "#d8576b"
             ],
             [
              0.6666666666666666,
              "#ed7953"
             ],
             [
              0.7777777777777778,
              "#fb9f3a"
             ],
             [
              0.8888888888888888,
              "#fdca26"
             ],
             [
              1,
              "#f0f921"
             ]
            ],
            "type": "heatmap"
           }
          ],
          "heatmapgl": [
           {
            "colorbar": {
             "outlinewidth": 0,
             "ticks": ""
            },
            "colorscale": [
             [
              0,
              "#0d0887"
             ],
             [
              0.1111111111111111,
              "#46039f"
             ],
             [
              0.2222222222222222,
              "#7201a8"
             ],
             [
              0.3333333333333333,
              "#9c179e"
             ],
             [
              0.4444444444444444,
              "#bd3786"
             ],
             [
              0.5555555555555556,
              "#d8576b"
             ],
             [
              0.6666666666666666,
              "#ed7953"
             ],
             [
              0.7777777777777778,
              "#fb9f3a"
             ],
             [
              0.8888888888888888,
              "#fdca26"
             ],
             [
              1,
              "#f0f921"
             ]
            ],
            "type": "heatmapgl"
           }
          ],
          "histogram": [
           {
            "marker": {
             "pattern": {
              "fillmode": "overlay",
              "size": 10,
              "solidity": 0.2
             }
            },
            "type": "histogram"
           }
          ],
          "histogram2d": [
           {
            "colorbar": {
             "outlinewidth": 0,
             "ticks": ""
            },
            "colorscale": [
             [
              0,
              "#0d0887"
             ],
             [
              0.1111111111111111,
              "#46039f"
             ],
             [
              0.2222222222222222,
              "#7201a8"
             ],
             [
              0.3333333333333333,
              "#9c179e"
             ],
             [
              0.4444444444444444,
              "#bd3786"
             ],
             [
              0.5555555555555556,
              "#d8576b"
             ],
             [
              0.6666666666666666,
              "#ed7953"
             ],
             [
              0.7777777777777778,
              "#fb9f3a"
             ],
             [
              0.8888888888888888,
              "#fdca26"
             ],
             [
              1,
              "#f0f921"
             ]
            ],
            "type": "histogram2d"
           }
          ],
          "histogram2dcontour": [
           {
            "colorbar": {
             "outlinewidth": 0,
             "ticks": ""
            },
            "colorscale": [
             [
              0,
              "#0d0887"
             ],
             [
              0.1111111111111111,
              "#46039f"
             ],
             [
              0.2222222222222222,
              "#7201a8"
             ],
             [
              0.3333333333333333,
              "#9c179e"
             ],
             [
              0.4444444444444444,
              "#bd3786"
             ],
             [
              0.5555555555555556,
              "#d8576b"
             ],
             [
              0.6666666666666666,
              "#ed7953"
             ],
             [
              0.7777777777777778,
              "#fb9f3a"
             ],
             [
              0.8888888888888888,
              "#fdca26"
             ],
             [
              1,
              "#f0f921"
             ]
            ],
            "type": "histogram2dcontour"
           }
          ],
          "mesh3d": [
           {
            "colorbar": {
             "outlinewidth": 0,
             "ticks": ""
            },
            "type": "mesh3d"
           }
          ],
          "parcoords": [
           {
            "line": {
             "colorbar": {
              "outlinewidth": 0,
              "ticks": ""
             }
            },
            "type": "parcoords"
           }
          ],
          "pie": [
           {
            "automargin": true,
            "type": "pie"
           }
          ],
          "scatter": [
           {
            "fillpattern": {
             "fillmode": "overlay",
             "size": 10,
             "solidity": 0.2
            },
            "type": "scatter"
           }
          ],
          "scatter3d": [
           {
            "line": {
             "colorbar": {
              "outlinewidth": 0,
              "ticks": ""
             }
            },
            "marker": {
             "colorbar": {
              "outlinewidth": 0,
              "ticks": ""
             }
            },
            "type": "scatter3d"
           }
          ],
          "scattercarpet": [
           {
            "marker": {
             "colorbar": {
              "outlinewidth": 0,
              "ticks": ""
             }
            },
            "type": "scattercarpet"
           }
          ],
          "scattergeo": [
           {
            "marker": {
             "colorbar": {
              "outlinewidth": 0,
              "ticks": ""
             }
            },
            "type": "scattergeo"
           }
          ],
          "scattergl": [
           {
            "marker": {
             "colorbar": {
              "outlinewidth": 0,
              "ticks": ""
             }
            },
            "type": "scattergl"
           }
          ],
          "scattermapbox": [
           {
            "marker": {
             "colorbar": {
              "outlinewidth": 0,
              "ticks": ""
             }
            },
            "type": "scattermapbox"
           }
          ],
          "scatterpolar": [
           {
            "marker": {
             "colorbar": {
              "outlinewidth": 0,
              "ticks": ""
             }
            },
            "type": "scatterpolar"
           }
          ],
          "scatterpolargl": [
           {
            "marker": {
             "colorbar": {
              "outlinewidth": 0,
              "ticks": ""
             }
            },
            "type": "scatterpolargl"
           }
          ],
          "scatterternary": [
           {
            "marker": {
             "colorbar": {
              "outlinewidth": 0,
              "ticks": ""
             }
            },
            "type": "scatterternary"
           }
          ],
          "surface": [
           {
            "colorbar": {
             "outlinewidth": 0,
             "ticks": ""
            },
            "colorscale": [
             [
              0,
              "#0d0887"
             ],
             [
              0.1111111111111111,
              "#46039f"
             ],
             [
              0.2222222222222222,
              "#7201a8"
             ],
             [
              0.3333333333333333,
              "#9c179e"
             ],
             [
              0.4444444444444444,
              "#bd3786"
             ],
             [
              0.5555555555555556,
              "#d8576b"
             ],
             [
              0.6666666666666666,
              "#ed7953"
             ],
             [
              0.7777777777777778,
              "#fb9f3a"
             ],
             [
              0.8888888888888888,
              "#fdca26"
             ],
             [
              1,
              "#f0f921"
             ]
            ],
            "type": "surface"
           }
          ],
          "table": [
           {
            "cells": {
             "fill": {
              "color": "#EBF0F8"
             },
             "line": {
              "color": "white"
             }
            },
            "header": {
             "fill": {
              "color": "#C8D4E3"
             },
             "line": {
              "color": "white"
             }
            },
            "type": "table"
           }
          ]
         },
         "layout": {
          "annotationdefaults": {
           "arrowcolor": "#2a3f5f",
           "arrowhead": 0,
           "arrowwidth": 1
          },
          "autotypenumbers": "strict",
          "coloraxis": {
           "colorbar": {
            "outlinewidth": 0,
            "ticks": ""
           }
          },
          "colorscale": {
           "diverging": [
            [
             0,
             "#8e0152"
            ],
            [
             0.1,
             "#c51b7d"
            ],
            [
             0.2,
             "#de77ae"
            ],
            [
             0.3,
             "#f1b6da"
            ],
            [
             0.4,
             "#fde0ef"
            ],
            [
             0.5,
             "#f7f7f7"
            ],
            [
             0.6,
             "#e6f5d0"
            ],
            [
             0.7,
             "#b8e186"
            ],
            [
             0.8,
             "#7fbc41"
            ],
            [
             0.9,
             "#4d9221"
            ],
            [
             1,
             "#276419"
            ]
           ],
           "sequential": [
            [
             0,
             "#0d0887"
            ],
            [
             0.1111111111111111,
             "#46039f"
            ],
            [
             0.2222222222222222,
             "#7201a8"
            ],
            [
             0.3333333333333333,
             "#9c179e"
            ],
            [
             0.4444444444444444,
             "#bd3786"
            ],
            [
             0.5555555555555556,
             "#d8576b"
            ],
            [
             0.6666666666666666,
             "#ed7953"
            ],
            [
             0.7777777777777778,
             "#fb9f3a"
            ],
            [
             0.8888888888888888,
             "#fdca26"
            ],
            [
             1,
             "#f0f921"
            ]
           ],
           "sequentialminus": [
            [
             0,
             "#0d0887"
            ],
            [
             0.1111111111111111,
             "#46039f"
            ],
            [
             0.2222222222222222,
             "#7201a8"
            ],
            [
             0.3333333333333333,
             "#9c179e"
            ],
            [
             0.4444444444444444,
             "#bd3786"
            ],
            [
             0.5555555555555556,
             "#d8576b"
            ],
            [
             0.6666666666666666,
             "#ed7953"
            ],
            [
             0.7777777777777778,
             "#fb9f3a"
            ],
            [
             0.8888888888888888,
             "#fdca26"
            ],
            [
             1,
             "#f0f921"
            ]
           ]
          },
          "colorway": [
           "#636efa",
           "#EF553B",
           "#00cc96",
           "#ab63fa",
           "#FFA15A",
           "#19d3f3",
           "#FF6692",
           "#B6E880",
           "#FF97FF",
           "#FECB52"
          ],
          "font": {
           "color": "#2a3f5f"
          },
          "geo": {
           "bgcolor": "white",
           "lakecolor": "white",
           "landcolor": "#E5ECF6",
           "showlakes": true,
           "showland": true,
           "subunitcolor": "white"
          },
          "hoverlabel": {
           "align": "left"
          },
          "hovermode": "closest",
          "mapbox": {
           "style": "light"
          },
          "paper_bgcolor": "white",
          "plot_bgcolor": "#E5ECF6",
          "polar": {
           "angularaxis": {
            "gridcolor": "white",
            "linecolor": "white",
            "ticks": ""
           },
           "bgcolor": "#E5ECF6",
           "radialaxis": {
            "gridcolor": "white",
            "linecolor": "white",
            "ticks": ""
           }
          },
          "scene": {
           "xaxis": {
            "backgroundcolor": "#E5ECF6",
            "gridcolor": "white",
            "gridwidth": 2,
            "linecolor": "white",
            "showbackground": true,
            "ticks": "",
            "zerolinecolor": "white"
           },
           "yaxis": {
            "backgroundcolor": "#E5ECF6",
            "gridcolor": "white",
            "gridwidth": 2,
            "linecolor": "white",
            "showbackground": true,
            "ticks": "",
            "zerolinecolor": "white"
           },
           "zaxis": {
            "backgroundcolor": "#E5ECF6",
            "gridcolor": "white",
            "gridwidth": 2,
            "linecolor": "white",
            "showbackground": true,
            "ticks": "",
            "zerolinecolor": "white"
           }
          },
          "shapedefaults": {
           "line": {
            "color": "#2a3f5f"
           }
          },
          "ternary": {
           "aaxis": {
            "gridcolor": "white",
            "linecolor": "white",
            "ticks": ""
           },
           "baxis": {
            "gridcolor": "white",
            "linecolor": "white",
            "ticks": ""
           },
           "bgcolor": "#E5ECF6",
           "caxis": {
            "gridcolor": "white",
            "linecolor": "white",
            "ticks": ""
           }
          },
          "title": {
           "x": 0.05
          },
          "xaxis": {
           "automargin": true,
           "gridcolor": "white",
           "linecolor": "white",
           "ticks": "",
           "title": {
            "standoff": 15
           },
           "zerolinecolor": "white",
           "zerolinewidth": 2
          },
          "yaxis": {
           "automargin": true,
           "gridcolor": "white",
           "linecolor": "white",
           "ticks": "",
           "title": {
            "standoff": 15
           },
           "zerolinecolor": "white",
           "zerolinewidth": 2
          }
         }
        },
        "xaxis": {
         "anchor": "y",
         "domain": [
          0,
          1
         ]
        },
        "yaxis": {
         "anchor": "x",
         "autorange": "reversed",
         "domain": [
          0,
          1
         ]
        }
       }
      }
     },
     "metadata": {},
     "output_type": "display_data"
    }
   ],
   "source": [
    "import plotly.express as px\n",
    "import pandas as pd\n",
    "\n",
    "# Assuming df is already defined\n",
    "\n",
    "\n",
    "numeric_df = df.select_dtypes(include=[float, int])\n",
    "\n",
    "\n",
    "correlation_matrix = numeric_df.corr()\n",
    " \n",
    "fig = px.imshow(correlation_matrix, text_auto=True, aspect=\"auto\", color_continuous_scale='RdBu_r')\n",
    "\n",
    "fig.show()"
   ]
  },
  {
   "cell_type": "code",
   "execution_count": 12,
   "metadata": {},
   "outputs": [
    {
     "data": {
      "image/png": "[encoded data removed]",
      "text/plain": [
       "<Figure size 750x750 with 12 Axes>"
      ]
     },
     "metadata": {},
     "output_type": "display_data"
    }
   ],
   "source": [
    "import seaborn as sns\n",
    "\n",
    "# Select features with correlation above 0.8\n",
    "high_corr_features = correlation_matrix.columns[(correlation_matrix > 0.8).any()].tolist()\n",
    "\n",
    "# Create a pairplot for the selected features\n",
    "sns.pairplot(numeric_df[high_corr_features])\n",
    "plt.show()\n"
   ]
  },
  {
   "cell_type": "code",
   "execution_count": 13,
   "metadata": {},
   "outputs": [
    {
     "data": {
      "text/plain": [
       "City               0\n",
       "Country            0\n",
       "Population_2023    0\n",
       "Growth_Rate (%)    0\n",
       "Population_2024    0\n",
       "dtype: int64"
      ]
     },
     "execution_count": 13,
     "metadata": {},
     "output_type": "execute_result"
    }
   ],
   "source": [
    "df.isna().sum()"
   ]
  },
  {
   "cell_type": "code",
   "execution_count": null,
   "metadata": {},
   "outputs": [],
   "source": []
  },
  {
   "cell_type": "code",
   "execution_count": 27,
   "metadata": {},
   "outputs": [
    {
     "data": {
      "application/vnd.plotly.v1+json": {
       "config": {
        "plotlyServerURL": "https://plot.ly"
       },
       "data": [
        {
         "alignmentgroup": "True",
         "hovertemplate": "City=%{x}<br>Count=%{text}<extra></extra>",
         "legendgroup": "",
         "marker": {
          "color": "#636efa",
          "pattern": {
           "shape": ""
          }
         },
         "name": "",
         "offsetgroup": "",
         "orientation": "v",
         "showlegend": false,
         "text": [
          118,
          110,
          107,
          107,
          100,
          96,
          94,
          94,
          91,
          83
         ],
         "textposition": "auto",
         "type": "bar",
         "x": [
          "New York",
          "London",
          "Mumbai",
          "Sydney",
          "Cairo",
          "Sao Paulo",
          "Los Angeles",
          "Shanghai",
          "Moscow",
          "Tokyo"
         ],
         "xaxis": "x",
         "y": [
          118,
          110,
          107,
          107,
          100,
          96,
          94,
          94,
          91,
          83
         ],
         "yaxis": "y"
        }
       ],
       "layout": {
        "barmode": "relative",
        "legend": {
         "tracegroupgap": 0
        },
        "paper_bgcolor": "rgba(0,0,0,0)",
        "plot_bgcolor": "rgba(0,0,0,0)",
        "template": {
         "data": {
          "bar": [
           {
            "error_x": {
             "color": "#2a3f5f"
            },
            "error_y": {
             "color": "#2a3f5f"
            },
            "marker": {
             "line": {
              "color": "#E5ECF6",
              "width": 0.5
             },
             "pattern": {
              "fillmode": "overlay",
              "size": 10,
              "solidity": 0.2
             }
            },
            "type": "bar"
           }
          ],
          "barpolar": [
           {
            "marker": {
             "line": {
              "color": "#E5ECF6",
              "width": 0.5
             },
             "pattern": {
              "fillmode": "overlay",
              "size": 10,
              "solidity": 0.2
             }
            },
            "type": "barpolar"
           }
          ],
          "carpet": [
           {
            "aaxis": {
             "endlinecolor": "#2a3f5f",
             "gridcolor": "white",
             "linecolor": "white",
             "minorgridcolor": "white",
             "startlinecolor": "#2a3f5f"
            },
            "baxis": {
             "endlinecolor": "#2a3f5f",
             "gridcolor": "white",
             "linecolor": "white",
             "minorgridcolor": "white",
             "startlinecolor": "#2a3f5f"
            },
            "type": "carpet"
           }
          ],
          "choropleth": [
           {
            "colorbar": {
             "outlinewidth": 0,
             "ticks": ""
            },
            "type": "choropleth"
           }
          ],
          "contour": [
           {
            "colorbar": {
             "outlinewidth": 0,
             "ticks": ""
            },
            "colorscale": [
             [
              0,
              "#0d0887"
             ],
             [
              0.1111111111111111,
              "#46039f"
             ],
             [
              0.2222222222222222,
              "#7201a8"
             ],
             [
              0.3333333333333333,
              "#9c179e"
             ],
             [
              0.4444444444444444,
              "#bd3786"
             ],
             [
              0.5555555555555556,
              "#d8576b"
             ],
             [
              0.6666666666666666,
              "#ed7953"
             ],
             [
              0.7777777777777778,
              "#fb9f3a"
             ],
             [
              0.8888888888888888,
              "#fdca26"
             ],
             [
              1,
              "#f0f921"
             ]
            ],
            "type": "contour"
           }
          ],
          "contourcarpet": [
           {
            "colorbar": {
             "outlinewidth": 0,
             "ticks": ""
            },
            "type": "contourcarpet"
           }
          ],
          "heatmap": [
           {
            "colorbar": {
             "outlinewidth": 0,
             "ticks": ""
            },
            "colorscale": [
             [
              0,
              "#0d0887"
             ],
             [
              0.1111111111111111,
              "#46039f"
             ],
             [
              0.2222222222222222,
              "#7201a8"
             ],
             [
              0.3333333333333333,
              "#9c179e"
             ],
             [
              0.4444444444444444,
              "#bd3786"
             ],
             [
              0.5555555555555556,
              "#d8576b"
             ],
             [
              0.6666666666666666,
              "#ed7953"
             ],
             [
              0.7777777777777778,
              "#fb9f3a"
             ],
             [
              0.8888888888888888,
              "#fdca26"
             ],
             [
              1,
              "#f0f921"
             ]
            ],
            "type": "heatmap"
           }
          ],
          "heatmapgl": [
           {
            "colorbar": {
             "outlinewidth": 0,
             "ticks": ""
            },
            "colorscale": [
             [
              0,
              "#0d0887"
             ],
             [
              0.1111111111111111,
              "#46039f"
             ],
             [
              0.2222222222222222,
              "#7201a8"
             ],
             [
              0.3333333333333333,
              "#9c179e"
             ],
             [
              0.4444444444444444,
              "#bd3786"
             ],
             [
              0.5555555555555556,
              "#d8576b"
             ],
             [
              0.6666666666666666,
              "#ed7953"
             ],
             [
              0.7777777777777778,
              "#fb9f3a"
             ],
             [
              0.8888888888888888,
              "#fdca26"
             ],
             [
              1,
              "#f0f921"
             ]
            ],
            "type": "heatmapgl"
           }
          ],
          "histogram": [
           {
            "marker": {
             "pattern": {
              "fillmode": "overlay",
              "size": 10,
              "solidity": 0.2
             }
            },
            "type": "histogram"
           }
          ],
          "histogram2d": [
           {
            "colorbar": {
             "outlinewidth": 0,
             "ticks": ""
            },
            "colorscale": [
             [
              0,
              "#0d0887"
             ],
             [
              0.1111111111111111,
              "#46039f"
             ],
             [
              0.2222222222222222,
              "#7201a8"
             ],
             [
              0.3333333333333333,
              "#9c179e"
             ],
             [
              0.4444444444444444,
              "#bd3786"
             ],
             [
              0.5555555555555556,
              "#d8576b"
             ],
             [
              0.6666666666666666,
              "#ed7953"
             ],
             [
              0.7777777777777778,
              "#fb9f3a"
             ],
             [
              0.8888888888888888,
              "#fdca26"
             ],
             [
              1,
              "#f0f921"
             ]
            ],
            "type": "histogram2d"
           }
          ],
          "histogram2dcontour": [
           {
            "colorbar": {
             "outlinewidth": 0,
             "ticks": ""
            },
            "colorscale": [
             [
              0,
              "#0d0887"
             ],
             [
              0.1111111111111111,
              "#46039f"
             ],
             [
              0.2222222222222222,
              "#7201a8"
             ],
             [
              0.3333333333333333,
              "#9c179e"
             ],
             [
              0.4444444444444444,
              "#bd3786"
             ],
             [
              0.5555555555555556,
              "#d8576b"
             ],
             [
              0.6666666666666666,
              "#ed7953"
             ],
             [
              0.7777777777777778,
              "#fb9f3a"
             ],
             [
              0.8888888888888888,
              "#fdca26"
             ],
             [
              1,
              "#f0f921"
             ]
            ],
            "type": "histogram2dcontour"
           }
          ],
          "mesh3d": [
           {
            "colorbar": {
             "outlinewidth": 0,
             "ticks": ""
            },
            "type": "mesh3d"
           }
          ],
          "parcoords": [
           {
            "line": {
             "colorbar": {
              "outlinewidth": 0,
              "ticks": ""
             }
            },
            "type": "parcoords"
           }
          ],
          "pie": [
           {
            "automargin": true,
            "type": "pie"
           }
          ],
          "scatter": [
           {
            "fillpattern": {
             "fillmode": "overlay",
             "size": 10,
             "solidity": 0.2
            },
            "type": "scatter"
           }
          ],
          "scatter3d": [
           {
            "line": {
             "colorbar": {
              "outlinewidth": 0,
              "ticks": ""
             }
            },
            "marker": {
             "colorbar": {
              "outlinewidth": 0,
              "ticks": ""
             }
            },
            "type": "scatter3d"
           }
          ],
          "scattercarpet": [
           {
            "marker": {
             "colorbar": {
              "outlinewidth": 0,
              "ticks": ""
             }
            },
            "type": "scattercarpet"
           }
          ],
          "scattergeo": [
           {
            "marker": {
             "colorbar": {
              "outlinewidth": 0,
              "ticks": ""
             }
            },
            "type": "scattergeo"
           }
          ],
          "scattergl": [
           {
            "marker": {
             "colorbar": {
              "outlinewidth": 0,
              "ticks": ""
             }
            },
            "type": "scattergl"
           }
          ],
          "scattermapbox": [
           {
            "marker": {
             "colorbar": {
              "outlinewidth": 0,
              "ticks": ""
             }
            },
            "type": "scattermapbox"
           }
          ],
          "scatterpolar": [
           {
            "marker": {
             "colorbar": {
              "outlinewidth": 0,
              "ticks": ""
             }
            },
            "type": "scatterpolar"
           }
          ],
          "scatterpolargl": [
           {
            "marker": {
             "colorbar": {
              "outlinewidth": 0,
              "ticks": ""
             }
            },
            "type": "scatterpolargl"
           }
          ],
          "scatterternary": [
           {
            "marker": {
             "colorbar": {
              "outlinewidth": 0,
              "ticks": ""
             }
            },
            "type": "scatterternary"
           }
          ],
          "surface": [
           {
            "colorbar": {
             "outlinewidth": 0,
             "ticks": ""
            },
            "colorscale": [
             [
              0,
              "#0d0887"
             ],
             [
              0.1111111111111111,
              "#46039f"
             ],
             [
              0.2222222222222222,
              "#7201a8"
             ],
             [
              0.3333333333333333,
              "#9c179e"
             ],
             [
              0.4444444444444444,
              "#bd3786"
             ],
             [
              0.5555555555555556,
              "#d8576b"
             ],
             [
              0.6666666666666666,
              "#ed7953"
             ],
             [
              0.7777777777777778,
              "#fb9f3a"
             ],
             [
              0.8888888888888888,
              "#fdca26"
             ],
             [
              1,
              "#f0f921"
             ]
            ],
            "type": "surface"
           }
          ],
          "table": [
           {
            "cells": {
             "fill": {
              "color": "#EBF0F8"
             },
             "line": {
              "color": "white"
             }
            },
            "header": {
             "fill": {
              "color": "#C8D4E3"
             },
             "line": {
              "color": "white"
             }
            },
            "type": "table"
           }
          ]
         },
         "layout": {
          "annotationdefaults": {
           "arrowcolor": "#2a3f5f",
           "arrowhead": 0,
           "arrowwidth": 1
          },
          "autotypenumbers": "strict",
          "coloraxis": {
           "colorbar": {
            "outlinewidth": 0,
            "ticks": ""
           }
          },
          "colorscale": {
           "diverging": [
            [
             0,
             "#8e0152"
            ],
            [
             0.1,
             "#c51b7d"
            ],
            [
             0.2,
             "#de77ae"
            ],
            [
             0.3,
             "#f1b6da"
            ],
            [
             0.4,
             "#fde0ef"
            ],
            [
             0.5,
             "#f7f7f7"
            ],
            [
             0.6,
             "#e6f5d0"
            ],
            [
             0.7,
             "#b8e186"
            ],
            [
             0.8,
             "#7fbc41"
            ],
            [
             0.9,
             "#4d9221"
            ],
            [
             1,
             "#276419"
            ]
           ],
           "sequential": [
            [
             0,
             "#0d0887"
            ],
            [
             0.1111111111111111,
             "#46039f"
            ],
            [
             0.2222222222222222,
             "#7201a8"
            ],
            [
             0.3333333333333333,
             "#9c179e"
            ],
            [
             0.4444444444444444,
             "#bd3786"
            ],
            [
             0.5555555555555556,
             "#d8576b"
            ],
            [
             0.6666666666666666,
             "#ed7953"
            ],
            [
             0.7777777777777778,
             "#fb9f3a"
            ],
            [
             0.8888888888888888,
             "#fdca26"
            ],
            [
             1,
             "#f0f921"
            ]
           ],
           "sequentialminus": [
            [
             0,
             "#0d0887"
            ],
            [
             0.1111111111111111,
             "#46039f"
            ],
            [
             0.2222222222222222,
             "#7201a8"
            ],
            [
             0.3333333333333333,
             "#9c179e"
            ],
            [
             0.4444444444444444,
             "#bd3786"
            ],
            [
             0.5555555555555556,
             "#d8576b"
            ],
            [
             0.6666666666666666,
             "#ed7953"
            ],
            [
             0.7777777777777778,
             "#fb9f3a"
            ],
            [
             0.8888888888888888,
             "#fdca26"
            ],
            [
             1,
             "#f0f921"
            ]
           ]
          },
          "colorway": [
           "#636efa",
           "#EF553B",
           "#00cc96",
           "#ab63fa",
           "#FFA15A",
           "#19d3f3",
           "#FF6692",
           "#B6E880",
           "#FF97FF",
           "#FECB52"
          ],
          "font": {
           "color": "#2a3f5f"
          },
          "geo": {
           "bgcolor": "white",
           "lakecolor": "white",
           "landcolor": "#E5ECF6",
           "showlakes": true,
           "showland": true,
           "subunitcolor": "white"
          },
          "hoverlabel": {
           "align": "left"
          },
          "hovermode": "closest",
          "mapbox": {
           "style": "light"
          },
          "paper_bgcolor": "white",
          "plot_bgcolor": "#E5ECF6",
          "polar": {
           "angularaxis": {
            "gridcolor": "white",
            "linecolor": "white",
            "ticks": ""
           },
           "bgcolor": "#E5ECF6",
           "radialaxis": {
            "gridcolor": "white",
            "linecolor": "white",
            "ticks": ""
           }
          },
          "scene": {
           "xaxis": {
            "backgroundcolor": "#E5ECF6",
            "gridcolor": "white",
            "gridwidth": 2,
            "linecolor": "white",
            "showbackground": true,
            "ticks": "",
            "zerolinecolor": "white"
           },
           "yaxis": {
            "backgroundcolor": "#E5ECF6",
            "gridcolor": "white",
            "gridwidth": 2,
            "linecolor": "white",
            "showbackground": true,
            "ticks": "",
            "zerolinecolor": "white"
           },
           "zaxis": {
            "backgroundcolor": "#E5ECF6",
            "gridcolor": "white",
            "gridwidth": 2,
            "linecolor": "white",
            "showbackground": true,
            "ticks": "",
            "zerolinecolor": "white"
           }
          },
          "shapedefaults": {
           "line": {
            "color": "#2a3f5f"
           }
          },
          "ternary": {
           "aaxis": {
            "gridcolor": "white",
            "linecolor": "white",
            "ticks": ""
           },
           "baxis": {
            "gridcolor": "white",
            "linecolor": "white",
            "ticks": ""
           },
           "bgcolor": "#E5ECF6",
           "caxis": {
            "gridcolor": "white",
            "linecolor": "white",
            "ticks": ""
           }
          },
          "title": {
           "x": 0.05
          },
          "xaxis": {
           "automargin": true,
           "gridcolor": "white",
           "linecolor": "white",
           "ticks": "",
           "title": {
            "standoff": 15
           },
           "zerolinecolor": "white",
           "zerolinewidth": 2
          },
          "yaxis": {
           "automargin": true,
           "gridcolor": "white",
           "linecolor": "white",
           "ticks": "",
           "title": {
            "standoff": 15
           },
           "zerolinecolor": "white",
           "zerolinewidth": 2
          }
         }
        },
        "title": {
         "font": {
          "family": "Arial",
          "size": 18
         },
         "text": "Distribution of City"
        },
        "xaxis": {
         "anchor": "y",
         "categoryorder": "total descending",
         "domain": [
          0,
          1
         ],
         "title": {
          "text": "City"
         }
        },
        "yaxis": {
         "anchor": "x",
         "domain": [
          0,
          1
         ],
         "title": {
          "text": "Count"
         }
        }
       }
      }
     },
     "metadata": {},
     "output_type": "display_data"
    },
    {
     "data": {
      "application/vnd.plotly.v1+json": {
       "config": {
        "plotlyServerURL": "https://plot.ly"
       },
       "data": [
        {
         "alignmentgroup": "True",
         "hovertemplate": "Country=%{x}<br>Count=%{text}<extra></extra>",
         "legendgroup": "",
         "marker": {
          "color": "#636efa",
          "pattern": {
           "shape": ""
          }
         },
         "name": "",
         "offsetgroup": "",
         "orientation": "v",
         "showlegend": false,
         "text": [
          212,
          110,
          107,
          107,
          100,
          96,
          94,
          91,
          83
         ],
         "textposition": "auto",
         "type": "bar",
         "x": [
          "USA",
          "UK",
          "India",
          "Australia",
          "Egypt",
          "Brazil",
          "China",
          "Russia",
          "Japan"
         ],
         "xaxis": "x",
         "y": [
          212,
          110,
          107,
          107,
          100,
          96,
          94,
          91,
          83
         ],
         "yaxis": "y"
        }
       ],
       "layout": {
        "barmode": "relative",
        "legend": {
         "tracegroupgap": 0
        },
        "paper_bgcolor": "rgba(0,0,0,0)",
        "plot_bgcolor": "rgba(0,0,0,0)",
        "template": {
         "data": {
          "bar": [
           {
            "error_x": {
             "color": "#2a3f5f"
            },
            "error_y": {
             "color": "#2a3f5f"
            },
            "marker": {
             "line": {
              "color": "#E5ECF6",
              "width": 0.5
             },
             "pattern": {
              "fillmode": "overlay",
              "size": 10,
              "solidity": 0.2
             }
            },
            "type": "bar"
           }
          ],
          "barpolar": [
           {
            "marker": {
             "line": {
              "color": "#E5ECF6",
              "width": 0.5
             },
             "pattern": {
              "fillmode": "overlay",
              "size": 10,
              "solidity": 0.2
             }
            },
            "type": "barpolar"
           }
          ],
          "carpet": [
           {
            "aaxis": {
             "endlinecolor": "#2a3f5f",
             "gridcolor": "white",
             "linecolor": "white",
             "minorgridcolor": "white",
             "startlinecolor": "#2a3f5f"
            },
            "baxis": {
             "endlinecolor": "#2a3f5f",
             "gridcolor": "white",
             "linecolor": "white",
             "minorgridcolor": "white",
             "startlinecolor": "#2a3f5f"
            },
            "type": "carpet"
           }
          ],
          "choropleth": [
           {
            "colorbar": {
             "outlinewidth": 0,
             "ticks": ""
            },
            "type": "choropleth"
           }
          ],
          "contour": [
           {
            "colorbar": {
             "outlinewidth": 0,
             "ticks": ""
            },
            "colorscale": [
             [
              0,
              "#0d0887"
             ],
             [
              0.1111111111111111,
              "#46039f"
             ],
             [
              0.2222222222222222,
              "#7201a8"
             ],
             [
              0.3333333333333333,
              "#9c179e"
             ],
             [
              0.4444444444444444,
              "#bd3786"
             ],
             [
              0.5555555555555556,
              "#d8576b"
             ],
             [
              0.6666666666666666,
              "#ed7953"
             ],
             [
              0.7777777777777778,
              "#fb9f3a"
             ],
             [
              0.8888888888888888,
              "#fdca26"
             ],
             [
              1,
              "#f0f921"
             ]
            ],
            "type": "contour"
           }
          ],
          "contourcarpet": [
           {
            "colorbar": {
             "outlinewidth": 0,
             "ticks": ""
            },
            "type": "contourcarpet"
           }
          ],
          "heatmap": [
           {
            "colorbar": {
             "outlinewidth": 0,
             "ticks": ""
            },
            "colorscale": [
             [
              0,
              "#0d0887"
             ],
             [
              0.1111111111111111,
              "#46039f"
             ],
             [
              0.2222222222222222,
              "#7201a8"
             ],
             [
              0.3333333333333333,
              "#9c179e"
             ],
             [
              0.4444444444444444,
              "#bd3786"
             ],
             [
              0.5555555555555556,
              "#d8576b"
             ],
             [
              0.6666666666666666,
              "#ed7953"
             ],
             [
              0.7777777777777778,
              "#fb9f3a"
             ],
             [
              0.8888888888888888,
              "#fdca26"
             ],
             [
              1,
              "#f0f921"
             ]
            ],
            "type": "heatmap"
           }
          ],
          "heatmapgl": [
           {
            "colorbar": {
             "outlinewidth": 0,
             "ticks": ""
            },
            "colorscale": [
             [
              0,
              "#0d0887"
             ],
             [
              0.1111111111111111,
              "#46039f"
             ],
             [
              0.2222222222222222,
              "#7201a8"
             ],
             [
              0.3333333333333333,
              "#9c179e"
             ],
             [
              0.4444444444444444,
              "#bd3786"
             ],
             [
              0.5555555555555556,
              "#d8576b"
             ],
             [
              0.6666666666666666,
              "#ed7953"
             ],
             [
              0.7777777777777778,
              "#fb9f3a"
             ],
             [
              0.8888888888888888,
              "#fdca26"
             ],
             [
              1,
              "#f0f921"
             ]
            ],
            "type": "heatmapgl"
           }
          ],
          "histogram": [
           {
            "marker": {
             "pattern": {
              "fillmode": "overlay",
              "size": 10,
              "solidity": 0.2
             }
            },
            "type": "histogram"
           }
          ],
          "histogram2d": [
           {
            "colorbar": {
             "outlinewidth": 0,
             "ticks": ""
            },
            "colorscale": [
             [
              0,
              "#0d0887"
             ],
             [
              0.1111111111111111,
              "#46039f"
             ],
             [
              0.2222222222222222,
              "#7201a8"
             ],
             [
              0.3333333333333333,
              "#9c179e"
             ],
             [
              0.4444444444444444,
              "#bd3786"
             ],
             [
              0.5555555555555556,
              "#d8576b"
             ],
             [
              0.6666666666666666,
              "#ed7953"
             ],
             [
              0.7777777777777778,
              "#fb9f3a"
             ],
             [
              0.8888888888888888,
              "#fdca26"
             ],
             [
              1,
              "#f0f921"
             ]
            ],
            "type": "histogram2d"
           }
          ],
          "histogram2dcontour": [
           {
            "colorbar": {
             "outlinewidth": 0,
             "ticks": ""
            },
            "colorscale": [
             [
              0,
              "#0d0887"
             ],
             [
              0.1111111111111111,
              "#46039f"
             ],
             [
              0.2222222222222222,
              "#7201a8"
             ],
             [
              0.3333333333333333,
              "#9c179e"
             ],
             [
              0.4444444444444444,
              "#bd3786"
             ],
             [
              0.5555555555555556,
              "#d8576b"
             ],
             [
              0.6666666666666666,
              "#ed7953"
             ],
             [
              0.7777777777777778,
              "#fb9f3a"
             ],
             [
              0.8888888888888888,
              "#fdca26"
             ],
             [
              1,
              "#f0f921"
             ]
            ],
            "type": "histogram2dcontour"
           }
          ],
          "mesh3d": [
           {
            "colorbar": {
             "outlinewidth": 0,
             "ticks": ""
            },
            "type": "mesh3d"
           }
          ],
          "parcoords": [
           {
            "line": {
             "colorbar": {
              "outlinewidth": 0,
              "ticks": ""
             }
            },
            "type": "parcoords"
           }
          ],
          "pie": [
           {
            "automargin": true,
            "type": "pie"
           }
          ],
          "scatter": [
           {
            "fillpattern": {
             "fillmode": "overlay",
             "size": 10,
             "solidity": 0.2
            },
            "type": "scatter"
           }
          ],
          "scatter3d": [
           {
            "line": {
             "colorbar": {
              "outlinewidth": 0,
              "ticks": ""
             }
            },
            "marker": {
             "colorbar": {
              "outlinewidth": 0,
              "ticks": ""
             }
            },
            "type": "scatter3d"
           }
          ],
          "scattercarpet": [
           {
            "marker": {
             "colorbar": {
              "outlinewidth": 0,
              "ticks": ""
             }
            },
            "type": "scattercarpet"
           }
          ],
          "scattergeo": [
           {
            "marker": {
             "colorbar": {
              "outlinewidth": 0,
              "ticks": ""
             }
            },
            "type": "scattergeo"
           }
          ],
          "scattergl": [
           {
            "marker": {
             "colorbar": {
              "outlinewidth": 0,
              "ticks": ""
             }
            },
            "type": "scattergl"
           }
          ],
          "scattermapbox": [
           {
            "marker": {
             "colorbar": {
              "outlinewidth": 0,
              "ticks": ""
             }
            },
            "type": "scattermapbox"
           }
          ],
          "scatterpolar": [
           {
            "marker": {
             "colorbar": {
              "outlinewidth": 0,
              "ticks": ""
             }
            },
            "type": "scatterpolar"
           }
          ],
          "scatterpolargl": [
           {
            "marker": {
             "colorbar": {
              "outlinewidth": 0,
              "ticks": ""
             }
            },
            "type": "scatterpolargl"
           }
          ],
          "scatterternary": [
           {
            "marker": {
             "colorbar": {
              "outlinewidth": 0,
              "ticks": ""
             }
            },
            "type": "scatterternary"
           }
          ],
          "surface": [
           {
            "colorbar": {
             "outlinewidth": 0,
             "ticks": ""
            },
            "colorscale": [
             [
              0,
              "#0d0887"
             ],
             [
              0.1111111111111111,
              "#46039f"
             ],
             [
              0.2222222222222222,
              "#7201a8"
             ],
             [
              0.3333333333333333,
              "#9c179e"
             ],
             [
              0.4444444444444444,
              "#bd3786"
             ],
             [
              0.5555555555555556,
              "#d8576b"
             ],
             [
              0.6666666666666666,
              "#ed7953"
             ],
             [
              0.7777777777777778,
              "#fb9f3a"
             ],
             [
              0.8888888888888888,
              "#fdca26"
             ],
             [
              1,
              "#f0f921"
             ]
            ],
            "type": "surface"
           }
          ],
          "table": [
           {
            "cells": {
             "fill": {
              "color": "#EBF0F8"
             },
             "line": {
              "color": "white"
             }
            },
            "header": {
             "fill": {
              "color": "#C8D4E3"
             },
             "line": {
              "color": "white"
             }
            },
            "type": "table"
           }
          ]
         },
         "layout": {
          "annotationdefaults": {
           "arrowcolor": "#2a3f5f",
           "arrowhead": 0,
           "arrowwidth": 1
          },
          "autotypenumbers": "strict",
          "coloraxis": {
           "colorbar": {
            "outlinewidth": 0,
            "ticks": ""
           }
          },
          "colorscale": {
           "diverging": [
            [
             0,
             "#8e0152"
            ],
            [
             0.1,
             "#c51b7d"
            ],
            [
             0.2,
             "#de77ae"
            ],
            [
             0.3,
             "#f1b6da"
            ],
            [
             0.4,
             "#fde0ef"
            ],
            [
             0.5,
             "#f7f7f7"
            ],
            [
             0.6,
             "#e6f5d0"
            ],
            [
             0.7,
             "#b8e186"
            ],
            [
             0.8,
             "#7fbc41"
            ],
            [
             0.9,
             "#4d9221"
            ],
            [
             1,
             "#276419"
            ]
           ],
           "sequential": [
            [
             0,
             "#0d0887"
            ],
            [
             0.1111111111111111,
             "#46039f"
            ],
            [
             0.2222222222222222,
             "#7201a8"
            ],
            [
             0.3333333333333333,
             "#9c179e"
            ],
            [
             0.4444444444444444,
             "#bd3786"
            ],
            [
             0.5555555555555556,
             "#d8576b"
            ],
            [
             0.6666666666666666,
             "#ed7953"
            ],
            [
             0.7777777777777778,
             "#fb9f3a"
            ],
            [
             0.8888888888888888,
             "#fdca26"
            ],
            [
             1,
             "#f0f921"
            ]
           ],
           "sequentialminus": [
            [
             0,
             "#0d0887"
            ],
            [
             0.1111111111111111,
             "#46039f"
            ],
            [
             0.2222222222222222,
             "#7201a8"
            ],
            [
             0.3333333333333333,
             "#9c179e"
            ],
            [
             0.4444444444444444,
             "#bd3786"
            ],
            [
             0.5555555555555556,
             "#d8576b"
            ],
            [
             0.6666666666666666,
             "#ed7953"
            ],
            [
             0.7777777777777778,
             "#fb9f3a"
            ],
            [
             0.8888888888888888,
             "#fdca26"
            ],
            [
             1,
             "#f0f921"
            ]
           ]
          },
          "colorway": [
           "#636efa",
           "#EF553B",
           "#00cc96",
           "#ab63fa",
           "#FFA15A",
           "#19d3f3",
           "#FF6692",
           "#B6E880",
           "#FF97FF",
           "#FECB52"
          ],
          "font": {
           "color": "#2a3f5f"
          },
          "geo": {
           "bgcolor": "white",
           "lakecolor": "white",
           "landcolor": "#E5ECF6",
           "showlakes": true,
           "showland": true,
           "subunitcolor": "white"
          },
          "hoverlabel": {
           "align": "left"
          },
          "hovermode": "closest",
          "mapbox": {
           "style": "light"
          },
          "paper_bgcolor": "white",
          "plot_bgcolor": "#E5ECF6",
          "polar": {
           "angularaxis": {
            "gridcolor": "white",
            "linecolor": "white",
            "ticks": ""
           },
           "bgcolor": "#E5ECF6",
           "radialaxis": {
            "gridcolor": "white",
            "linecolor": "white",
            "ticks": ""
           }
          },
          "scene": {
           "xaxis": {
            "backgroundcolor": "#E5ECF6",
            "gridcolor": "white",
            "gridwidth": 2,
            "linecolor": "white",
            "showbackground": true,
            "ticks": "",
            "zerolinecolor": "white"
           },
           "yaxis": {
            "backgroundcolor": "#E5ECF6",
            "gridcolor": "white",
            "gridwidth": 2,
            "linecolor": "white",
            "showbackground": true,
            "ticks": "",
            "zerolinecolor": "white"
           },
           "zaxis": {
            "backgroundcolor": "#E5ECF6",
            "gridcolor": "white",
            "gridwidth": 2,
            "linecolor": "white",
            "showbackground": true,
            "ticks": "",
            "zerolinecolor": "white"
           }
          },
          "shapedefaults": {
           "line": {
            "color": "#2a3f5f"
           }
          },
          "ternary": {
           "aaxis": {
            "gridcolor": "white",
            "linecolor": "white",
            "ticks": ""
           },
           "baxis": {
            "gridcolor": "white",
            "linecolor": "white",
            "ticks": ""
           },
           "bgcolor": "#E5ECF6",
           "caxis": {
            "gridcolor": "white",
            "linecolor": "white",
            "ticks": ""
           }
          },
          "title": {
           "x": 0.05
          },
          "xaxis": {
           "automargin": true,
           "gridcolor": "white",
           "linecolor": "white",
           "ticks": "",
           "title": {
            "standoff": 15
           },
           "zerolinecolor": "white",
           "zerolinewidth": 2
          },
          "yaxis": {
           "automargin": true,
           "gridcolor": "white",
           "linecolor": "white",
           "ticks": "",
           "title": {
            "standoff": 15
           },
           "zerolinecolor": "white",
           "zerolinewidth": 2
          }
         }
        },
        "title": {
         "font": {
          "family": "Arial",
          "size": 18
         },
         "text": "Distribution of Country"
        },
        "xaxis": {
         "anchor": "y",
         "categoryorder": "total descending",
         "domain": [
          0,
          1
         ],
         "title": {
          "text": "Country"
         }
        },
        "yaxis": {
         "anchor": "x",
         "domain": [
          0,
          1
         ],
         "title": {
          "text": "Count"
         }
        }
       }
      }
     },
     "metadata": {},
     "output_type": "display_data"
    },
    {
     "data": {
      "application/vnd.plotly.v1+json": {
       "config": {
        "plotlyServerURL": "https://plot.ly"
       },
       "data": [
        {
         "alignmentgroup": "True",
         "bingroup": "x",
         "hovertemplate": "Population_2023=%{x}<br>count=%{y}<extra></extra>",
         "legendgroup": "",
         "marker": {
          "color": "#636efa",
          "pattern": {
           "shape": ""
          }
         },
         "name": "",
         "offsetgroup": "",
         "orientation": "v",
         "showlegend": false,
         "type": "histogram",
         "x": [
          26836512,
          11673774,
          22201723,
          11440139,
          3792427,
          12309411,
          21134895,
          6748035,
          5390020,
          3681719,
          18667911,
          13583038,
          18615977,
          25144880,
          26666139,
          23130041,
          28580296,
          10688053,
          9887324,
          12529677,
          21098343,
          20336488,
          16863509,
          20053322,
          24737750,
          25151808,
          17591661,
          7575716,
          3002324,
          7262105,
          13715629,
          29490147,
          7671318,
          18271808,
          12634494,
          14799990,
          4578226,
          23926247,
          28195278,
          3427540,
          19492846,
          1318408,
          9856884,
          11543305,
          26677235,
          29088632,
          20894388,
          10272985,
          24081896,
          22012258,
          2898739,
          27395160,
          18794649,
          25881226,
          5661029,
          12149697,
          21455302,
          14757649,
          19358746,
          14427105,
          19864474,
          5856447,
          26146282,
          7857658,
          28915002,
          1996530,
          26937077,
          20378839,
          27544070,
          7231219,
          21886213,
          12292148,
          4364695,
          13966064,
          11580030,
          18822698,
          6786265,
          23685851,
          8487345,
          27461126,
          1570451,
          26185640,
          1967344,
          12243667,
          3412149,
          6398869,
          17405566,
          21129468,
          21510055,
          10427504,
          12686214,
          8022336,
          23546143,
          20655820,
          29746717,
          22105074,
          13485559,
          25210749,
          9652831,
          14691164,
          23761900,
          12707868,
          15246173,
          3694287,
          11055079,
          7511634,
          14781009,
          22398272,
          9976973,
          14407602,
          1703662,
          19082801,
          5092097,
          14769205,
          15013403,
          20436656,
          10988209,
          21720861,
          22272229,
          7094467,
          10623424,
          27791175,
          11353564,
          23294582,
          4448678,
          14942402,
          27293023,
          29676873,
          22988809,
          15493549,
          14490337,
          11669435,
          17642016,
          9370262,
          11174518,
          17541471,
          22623985,
          12484508,
          8449607,
          16713088,
          21820280,
          14839094,
          17701250,
          20380183,
          4438550,
          1076218,
          24656190,
          18547260,
          6579079,
          11935349,
          15318328,
          14061358,
          29645954,
          20962930,
          19505312,
          9736347,
          17354286,
          9860935,
          25444321,
          3694946,
          5229215,
          19699351,
          16105101,
          8021855,
          18755255,
          10288493,
          9997354,
          8352207,
          29168643,
          18277092,
          2962165,
          8985620,
          1611213,
          18545950,
          16794998,
          25527791,
          5241361,
          23288390,
          2839433,
          7569632,
          21449430,
          19803796,
          14291666,
          25006255,
          8507324,
          7202258,
          22116451,
          10880860,
          4526737,
          9790529,
          19786176,
          22232430,
          26253779,
          7918889,
          21593662,
          21153729,
          16823554,
          19715094,
          13790902,
          11473867,
          11864147,
          7193956,
          14579173,
          2705215,
          23214365,
          15529416,
          28655393,
          8271476,
          24206827,
          4266402,
          14489651,
          25899065,
          25882005,
          28149675,
          21886096,
          6499593,
          15072989,
          14126263,
          5261946,
          17867309,
          10944790,
          13800127,
          11392287,
          15338768,
          2732465,
          20950800,
          14109773,
          12045415,
          16175617,
          3859244,
          18663256,
          1322918,
          29104437,
          20023125,
          1116739,
          10675193,
          10168924,
          16985249,
          29700374,
          16016740,
          12878474,
          10755461,
          2014929,
          27732671,
          3420564,
          11971177,
          27645859,
          26354280,
          3653093,
          21080673,
          13811416,
          23666213,
          7944121,
          7238795,
          15157398,
          22544564,
          14672297,
          18493972,
          26217050,
          7790968,
          4751198,
          29787333,
          25146650,
          16732903,
          4138145,
          2226476,
          5184056,
          9960820,
          16016390,
          13807049,
          2500844,
          10317776,
          21220825,
          26529300,
          2400283,
          23704829,
          15142073,
          1691757,
          1390719,
          10916545,
          10538555,
          24631669,
          16713642,
          21115136,
          21073266,
          19895540,
          7827299,
          24025010,
          14579033,
          25694812,
          28844756,
          5902666,
          18653247,
          7232739,
          2270896,
          12952314,
          2059622,
          5422375,
          17770274,
          18155381,
          26874486,
          5131479,
          10400725,
          26811012,
          18192224,
          19409209,
          4351278,
          20119251,
          25755666,
          6703394,
          25018163,
          20545578,
          12415376,
          18947581,
          10068026,
          14283692,
          27777578,
          27280417,
          27392776,
          23708377,
          24567809,
          22628404,
          3721864,
          21724424,
          7984720,
          29104320,
          15189784,
          8733308,
          4875754,
          20482215,
          23075433,
          29160024,
          19101286,
          25141602,
          29356738,
          11912996,
          11047595,
          29003805,
          23564965,
          19439009,
          7576651,
          7867218,
          10004644,
          25243243,
          12780026,
          14963258,
          5987696,
          18206204,
          5084752,
          22152073,
          14143608,
          3977590,
          25376816,
          24387950,
          4297291,
          13191037,
          22671503,
          25731863,
          3490706,
          25319751,
          27357726,
          9047252,
          6254224,
          11880726,
          23992356,
          21515189,
          19979791,
          24388869,
          18241287,
          22158353,
          22689432,
          26941259,
          11563214,
          25374842,
          15143385,
          21275688,
          29172140,
          26146905,
          2564718,
          22916959,
          11523401,
          10991183,
          15488262,
          4813270,
          5806425,
          24387092,
          20156053,
          7123769,
          2524102,
          12579149,
          15324046,
          10052788,
          20160582,
          3035848,
          22900146,
          11828463,
          26370439,
          10913841,
          27969564,
          24468625,
          13356830,
          12457501,
          1838003,
          4433382,
          9670178,
          29348817,
          4395049,
          17843366,
          25728848,
          8429645,
          11822814,
          23858903,
          15801890,
          26725547,
          15514363,
          20324716,
          29521569,
          10388162,
          5193060,
          17911271,
          16170521,
          26841846,
          26975766,
          13267883,
          10084966,
          12984398,
          2841648,
          8132508,
          24215061,
          27854296,
          15949772,
          4828433,
          20512480,
          14594639,
          22225964,
          28866537,
          8152747,
          28474813,
          15790081,
          5137270,
          5317922,
          13504233,
          26625121,
          25242589,
          2020154,
          25848140,
          24620748,
          5945169,
          7733215,
          13465759,
          9195810,
          25681510,
          8185197,
          25948764,
          7714301,
          12192304,
          16004124,
          28259197,
          15229748,
          14824747,
          11760888,
          12305231,
          28872695,
          27035947,
          12374857,
          25746909,
          16909784,
          2859582,
          14775236,
          25521280,
          19907101,
          15372528,
          5720642,
          28372972,
          14141133,
          1549239,
          26722525,
          6408753,
          20824785,
          14619492,
          14016728,
          17441775,
          10659072,
          18562548,
          15376941,
          26933774,
          26332296,
          1397710,
          7503216,
          5317048,
          15133434,
          20965945,
          5785956,
          22882940,
          6025764,
          15918570,
          12238779,
          16110853,
          25773414,
          18687991,
          6954878,
          28762698,
          23705213,
          18336140,
          21658401,
          13762264,
          6004998,
          11679043,
          22943866,
          14497927,
          23470291,
          9109916,
          6193278,
          18208629,
          27518388,
          11812658,
          21942316,
          14534573,
          18640777,
          1302186,
          20984609,
          6489464,
          8456985,
          24544744,
          29994288,
          18803769,
          27401026,
          26311095,
          28381509,
          17727556,
          14551364,
          21521013,
          2514542,
          24134934,
          5180656,
          12318792,
          26242722,
          16135763,
          12683705,
          7846192,
          9676924,
          11397562,
          25124905,
          2829553,
          4041341,
          18816720,
          24443671,
          15315679,
          11493666,
          25440805,
          25695564,
          22765239,
          25413052,
          25586222,
          16527000,
          19453059,
          9423309,
          4229028,
          24834209,
          19498826,
          11569320,
          3339767,
          20391451,
          1491036,
          26493128,
          23824130,
          11851224,
          3710241,
          12822411,
          18920169,
          21738568,
          4978702,
          9168984,
          18104132,
          4597706,
          5506554,
          1605409,
          10462743,
          12377787,
          24626702,
          22827621,
          9337735,
          2725690,
          21057988,
          9197295,
          16840857,
          6809041,
          13546501,
          6087268,
          7155579,
          1403119,
          16338444,
          17556827,
          25989636,
          13708903,
          1402732,
          18283295,
          2950013,
          28789660,
          2132658,
          19762425,
          5322626,
          18434167,
          26177127,
          27376033,
          21256807,
          14881178,
          22981132,
          7026988,
          16590661,
          25203479,
          3366610,
          5180303,
          10456807,
          14305947,
          5684346,
          1458298,
          18824559,
          23496936,
          26271052,
          5620650,
          19532908,
          10272664,
          2730228,
          2946793,
          19346339,
          7115518,
          16797914,
          12667877,
          8393979,
          11115078,
          29506244,
          26214698,
          2622572,
          20997497,
          20467000,
          25952818,
          18486878,
          24640598,
          23098345,
          17620937,
          9859060,
          6672605,
          11528294,
          20369886,
          5810833,
          24480675,
          7417665,
          18219277,
          29500556,
          4761675,
          28427110,
          25192961,
          25859871,
          26654796,
          27289818,
          20858544,
          23148328,
          28783527,
          9551646,
          8281505,
          6124795,
          6411263,
          4963735,
          27540396,
          28521698,
          15812143,
          24270725,
          9989138,
          14810077,
          13037574,
          10466441,
          11966248,
          9824031,
          18970145,
          26489214,
          7555035,
          11052829,
          16886372,
          5068316,
          9067987,
          2656671,
          23458851,
          23922481,
          9527171,
          18560282,
          10943231,
          22677072,
          24017995,
          21833173,
          24394704,
          18375113,
          21718453,
          10161408,
          14885461,
          17011737,
          19820215,
          29688378,
          4659985,
          19680113,
          25796429,
          21353727,
          18941166,
          1549148,
          3773707,
          22845218,
          3773939,
          2935740,
          4434955,
          5936710,
          14426716,
          28911050,
          6155872,
          15163589,
          20954542,
          19331726,
          27996639,
          21540338,
          11774986,
          16495737,
          5421590,
          3534937,
          12546081,
          1812461,
          22204252,
          19495440,
          3710626,
          27089868,
          12369960,
          16404302,
          25683382,
          25087324,
          27552476,
          7440010,
          9674163,
          18221407,
          19279553,
          4486669,
          15994515,
          27086421,
          28209162,
          4722946,
          24841616,
          10874813,
          12254507,
          1224695,
          12370075,
          21218844,
          27267668,
          15063918,
          25330191,
          25900452,
          25539066,
          16388755,
          10799314,
          4340216,
          21610500,
          14245696,
          2847865,
          15921595,
          25363941,
          15568974,
          16674529,
          10308092,
          22675170,
          5017136,
          14869848,
          18122071,
          6750283,
          2074961,
          22402894,
          12950571,
          20155151,
          18911322,
          13866619,
          26074093,
          3474968,
          7166160,
          23449756,
          14569332,
          23422023,
          23749774,
          3442266,
          5437677,
          14793267,
          10607366,
          6241218,
          27821567,
          22927851,
          6481140,
          24991831,
          29234105,
          25787859,
          5981262,
          22302424,
          6290717,
          1518349,
          20659206,
          1797968,
          25670077,
          26244907,
          23988627,
          3655971,
          16999496,
          23386341,
          20651515,
          8339838,
          14236949,
          17520181,
          25107508,
          15467188,
          19581889,
          3938199,
          16286855,
          25371594,
          9998604,
          5909776,
          17355399,
          16724308,
          10167121,
          4303389,
          9025407,
          22131601,
          15501229,
          26554414,
          27931806,
          14476005,
          12167263,
          4151882,
          4210016,
          28545701,
          7737320,
          3389383,
          24773962,
          17941269,
          15464087,
          23750760,
          6282379,
          10825144,
          3542637,
          9033951,
          12779534,
          29779087,
          25884533,
          5158549,
          10734816,
          22308105,
          11167207,
          9411039,
          17052465,
          27408955,
          10035616,
          9962049,
          13851424,
          9284960,
          19827165,
          9388512,
          19045516,
          2947763,
          27795673,
          28050901,
          8654502,
          4882149,
          22650278,
          24822425,
          9439469,
          25455289,
          16941617,
          5845710,
          21777953,
          10109609,
          15689142,
          28156907,
          13907824,
          27789735,
          16538122,
          15391234,
          25035962,
          2443717,
          5409352,
          29023557,
          22888358,
          16329502,
          10594271,
          9421928,
          26492849,
          24683787,
          17241927,
          9752967,
          14526705,
          2308507,
          21843837,
          10331795,
          16086909,
          13382318,
          10986298,
          1100734,
          9546310,
          20628490,
          19003027,
          27312911,
          4081091,
          17002437,
          21606265,
          12091989,
          19645886,
          13681730,
          8265406,
          13735272,
          22590889,
          5755469,
          16053770,
          27098641,
          25329205,
          22112918,
          8974411,
          15150540,
          12666968,
          20739948,
          28346162,
          2992825,
          4832978,
          7152941,
          5115811,
          9983212,
          11438535,
          20951324,
          3731638,
          18041716,
          11556086,
          20753247,
          26805106,
          24289643,
          3903633,
          23489029,
          2940369,
          21725458,
          9127125,
          18994276,
          18808735,
          15672183,
          26955176,
          5678714,
          9109698,
          15609307,
          19167497,
          21718322,
          3322466,
          8778748,
          9099932,
          19628533,
          2946830,
          20391366,
          8238987,
          10957168,
          5660061,
          3605214,
          8923641,
          3229180,
          11717207,
          16540627,
          17169764,
          10384451,
          5188891,
          17541035,
          10014653,
          15064147,
          21808635,
          5495511,
          19202161,
          27557362,
          3363999,
          10109096,
          5790691,
          26584889,
          28950196,
          22003105,
          10852415,
          20869411,
          27782273,
          18066318,
          10725345,
          17722851,
          29225830,
          15561193,
          28542898,
          12186361,
          27256629,
          5443778,
          25820972,
          21939281,
          29175911,
          1260116,
          29134286,
          7086368,
          29207970,
          12006745,
          21991495,
          12950831,
          2257949
         ],
         "xaxis": "x",
         "yaxis": "y"
        }
       ],
       "layout": {
        "barmode": "relative",
        "legend": {
         "tracegroupgap": 0
        },
        "paper_bgcolor": "rgba(0,0,0,0)",
        "plot_bgcolor": "rgba(0,0,0,0)",
        "template": {
         "data": {
          "bar": [
           {
            "error_x": {
             "color": "#2a3f5f"
            },
            "error_y": {
             "color": "#2a3f5f"
            },
            "marker": {
             "line": {
              "color": "#E5ECF6",
              "width": 0.5
             },
             "pattern": {
              "fillmode": "overlay",
              "size": 10,
              "solidity": 0.2
             }
            },
            "type": "bar"
           }
          ],
          "barpolar": [
           {
            "marker": {
             "line": {
              "color": "#E5ECF6",
              "width": 0.5
             },
             "pattern": {
              "fillmode": "overlay",
              "size": 10,
              "solidity": 0.2
             }
            },
            "type": "barpolar"
           }
          ],
          "carpet": [
           {
            "aaxis": {
             "endlinecolor": "#2a3f5f",
             "gridcolor": "white",
             "linecolor": "white",
             "minorgridcolor": "white",
             "startlinecolor": "#2a3f5f"
            },
            "baxis": {
             "endlinecolor": "#2a3f5f",
             "gridcolor": "white",
             "linecolor": "white",
             "minorgridcolor": "white",
             "startlinecolor": "#2a3f5f"
            },
            "type": "carpet"
           }
          ],
          "choropleth": [
           {
            "colorbar": {
             "outlinewidth": 0,
             "ticks": ""
            },
            "type": "choropleth"
           }
          ],
          "contour": [
           {
            "colorbar": {
             "outlinewidth": 0,
             "ticks": ""
            },
            "colorscale": [
             [
              0,
              "#0d0887"
             ],
             [
              0.1111111111111111,
              "#46039f"
             ],
             [
              0.2222222222222222,
              "#7201a8"
             ],
             [
              0.3333333333333333,
              "#9c179e"
             ],
             [
              0.4444444444444444,
              "#bd3786"
             ],
             [
              0.5555555555555556,
              "#d8576b"
             ],
             [
              0.6666666666666666,
              "#ed7953"
             ],
             [
              0.7777777777777778,
              "#fb9f3a"
             ],
             [
              0.8888888888888888,
              "#fdca26"
             ],
             [
              1,
              "#f0f921"
             ]
            ],
            "type": "contour"
           }
          ],
          "contourcarpet": [
           {
            "colorbar": {
             "outlinewidth": 0,
             "ticks": ""
            },
            "type": "contourcarpet"
           }
          ],
          "heatmap": [
           {
            "colorbar": {
             "outlinewidth": 0,
             "ticks": ""
            },
            "colorscale": [
             [
              0,
              "#0d0887"
             ],
             [
              0.1111111111111111,
              "#46039f"
             ],
             [
              0.2222222222222222,
              "#7201a8"
             ],
             [
              0.3333333333333333,
              "#9c179e"
             ],
             [
              0.4444444444444444,
              "#bd3786"
             ],
             [
              0.5555555555555556,
              "#d8576b"
             ],
             [
              0.6666666666666666,
              "#ed7953"
             ],
             [
              0.7777777777777778,
              "#fb9f3a"
             ],
             [
              0.8888888888888888,
              "#fdca26"
             ],
             [
              1,
              "#f0f921"
             ]
            ],
            "type": "heatmap"
           }
          ],
          "heatmapgl": [
           {
            "colorbar": {
             "outlinewidth": 0,
             "ticks": ""
            },
            "colorscale": [
             [
              0,
              "#0d0887"
             ],
             [
              0.1111111111111111,
              "#46039f"
             ],
             [
              0.2222222222222222,
              "#7201a8"
             ],
             [
              0.3333333333333333,
              "#9c179e"
             ],
             [
              0.4444444444444444,
              "#bd3786"
             ],
             [
              0.5555555555555556,
              "#d8576b"
             ],
             [
              0.6666666666666666,
              "#ed7953"
             ],
             [
              0.7777777777777778,
              "#fb9f3a"
             ],
             [
              0.8888888888888888,
              "#fdca26"
             ],
             [
              1,
              "#f0f921"
             ]
            ],
            "type": "heatmapgl"
           }
          ],
          "histogram": [
           {
            "marker": {
             "pattern": {
              "fillmode": "overlay",
              "size": 10,
              "solidity": 0.2
             }
            },
            "type": "histogram"
           }
          ],
          "histogram2d": [
           {
            "colorbar": {
             "outlinewidth": 0,
             "ticks": ""
            },
            "colorscale": [
             [
              0,
              "#0d0887"
             ],
             [
              0.1111111111111111,
              "#46039f"
             ],
             [
              0.2222222222222222,
              "#7201a8"
             ],
             [
              0.3333333333333333,
              "#9c179e"
             ],
             [
              0.4444444444444444,
              "#bd3786"
             ],
             [
              0.5555555555555556,
              "#d8576b"
             ],
             [
              0.6666666666666666,
              "#ed7953"
             ],
             [
              0.7777777777777778,
              "#fb9f3a"
             ],
             [
              0.8888888888888888,
              "#fdca26"
             ],
             [
              1,
              "#f0f921"
             ]
            ],
            "type": "histogram2d"
           }
          ],
          "histogram2dcontour": [
           {
            "colorbar": {
             "outlinewidth": 0,
             "ticks": ""
            },
            "colorscale": [
             [
              0,
              "#0d0887"
             ],
             [
              0.1111111111111111,
              "#46039f"
             ],
             [
              0.2222222222222222,
              "#7201a8"
             ],
             [
              0.3333333333333333,
              "#9c179e"
             ],
             [
              0.4444444444444444,
              "#bd3786"
             ],
             [
              0.5555555555555556,
              "#d8576b"
             ],
             [
              0.6666666666666666,
              "#ed7953"
             ],
             [
              0.7777777777777778,
              "#fb9f3a"
             ],
             [
              0.8888888888888888,
              "#fdca26"
             ],
             [
              1,
              "#f0f921"
             ]
            ],
            "type": "histogram2dcontour"
           }
          ],
          "mesh3d": [
           {
            "colorbar": {
             "outlinewidth": 0,
             "ticks": ""
            },
            "type": "mesh3d"
           }
          ],
          "parcoords": [
           {
            "line": {
             "colorbar": {
              "outlinewidth": 0,
              "ticks": ""
             }
            },
            "type": "parcoords"
           }
          ],
          "pie": [
           {
            "automargin": true,
            "type": "pie"
           }
          ],
          "scatter": [
           {
            "fillpattern": {
             "fillmode": "overlay",
             "size": 10,
             "solidity": 0.2
            },
            "type": "scatter"
           }
          ],
          "scatter3d": [
           {
            "line": {
             "colorbar": {
              "outlinewidth": 0,
              "ticks": ""
             }
            },
            "marker": {
             "colorbar": {
              "outlinewidth": 0,
              "ticks": ""
             }
            },
            "type": "scatter3d"
           }
          ],
          "scattercarpet": [
           {
            "marker": {
             "colorbar": {
              "outlinewidth": 0,
              "ticks": ""
             }
            },
            "type": "scattercarpet"
           }
          ],
          "scattergeo": [
           {
            "marker": {
             "colorbar": {
              "outlinewidth": 0,
              "ticks": ""
             }
            },
            "type": "scattergeo"
           }
          ],
          "scattergl": [
           {
            "marker": {
             "colorbar": {
              "outlinewidth": 0,
              "ticks": ""
             }
            },
            "type": "scattergl"
           }
          ],
          "scattermapbox": [
           {
            "marker": {
             "colorbar": {
              "outlinewidth": 0,
              "ticks": ""
             }
            },
            "type": "scattermapbox"
           }
          ],
          "scatterpolar": [
           {
            "marker": {
             "colorbar": {
              "outlinewidth": 0,
              "ticks": ""
             }
            },
            "type": "scatterpolar"
           }
          ],
          "scatterpolargl": [
           {
            "marker": {
             "colorbar": {
              "outlinewidth": 0,
              "ticks": ""
             }
            },
            "type": "scatterpolargl"
           }
          ],
          "scatterternary": [
           {
            "marker": {
             "colorbar": {
              "outlinewidth": 0,
              "ticks": ""
             }
            },
            "type": "scatterternary"
           }
          ],
          "surface": [
           {
            "colorbar": {
             "outlinewidth": 0,
             "ticks": ""
            },
            "colorscale": [
             [
              0,
              "#0d0887"
             ],
             [
              0.1111111111111111,
              "#46039f"
             ],
             [
              0.2222222222222222,
              "#7201a8"
             ],
             [
              0.3333333333333333,
              "#9c179e"
             ],
             [
              0.4444444444444444,
              "#bd3786"
             ],
             [
              0.5555555555555556,
              "#d8576b"
             ],
             [
              0.6666666666666666,
              "#ed7953"
             ],
             [
              0.7777777777777778,
              "#fb9f3a"
             ],
             [
              0.8888888888888888,
              "#fdca26"
             ],
             [
              1,
              "#f0f921"
             ]
            ],
            "type": "surface"
           }
          ],
          "table": [
           {
            "cells": {
             "fill": {
              "color": "#EBF0F8"
             },
             "line": {
              "color": "white"
             }
            },
            "header": {
             "fill": {
              "color": "#C8D4E3"
             },
             "line": {
              "color": "white"
             }
            },
            "type": "table"
           }
          ]
         },
         "layout": {
          "annotationdefaults": {
           "arrowcolor": "#2a3f5f",
           "arrowhead": 0,
           "arrowwidth": 1
          },
          "autotypenumbers": "strict",
          "coloraxis": {
           "colorbar": {
            "outlinewidth": 0,
            "ticks": ""
           }
          },
          "colorscale": {
           "diverging": [
            [
             0,
             "#8e0152"
            ],
            [
             0.1,
             "#c51b7d"
            ],
            [
             0.2,
             "#de77ae"
            ],
            [
             0.3,
             "#f1b6da"
            ],
            [
             0.4,
             "#fde0ef"
            ],
            [
             0.5,
             "#f7f7f7"
            ],
            [
             0.6,
             "#e6f5d0"
            ],
            [
             0.7,
             "#b8e186"
            ],
            [
             0.8,
             "#7fbc41"
            ],
            [
             0.9,
             "#4d9221"
            ],
            [
             1,
             "#276419"
            ]
           ],
           "sequential": [
            [
             0,
             "#0d0887"
            ],
            [
             0.1111111111111111,
             "#46039f"
            ],
            [
             0.2222222222222222,
             "#7201a8"
            ],
            [
             0.3333333333333333,
             "#9c179e"
            ],
            [
             0.4444444444444444,
             "#bd3786"
            ],
            [
             0.5555555555555556,
             "#d8576b"
            ],
            [
             0.6666666666666666,
             "#ed7953"
            ],
            [
             0.7777777777777778,
             "#fb9f3a"
            ],
            [
             0.8888888888888888,
             "#fdca26"
            ],
            [
             1,
             "#f0f921"
            ]
           ],
           "sequentialminus": [
            [
             0,
             "#0d0887"
            ],
            [
             0.1111111111111111,
             "#46039f"
            ],
            [
             0.2222222222222222,
             "#7201a8"
            ],
            [
             0.3333333333333333,
             "#9c179e"
            ],
            [
             0.4444444444444444,
             "#bd3786"
            ],
            [
             0.5555555555555556,
             "#d8576b"
            ],
            [
             0.6666666666666666,
             "#ed7953"
            ],
            [
             0.7777777777777778,
             "#fb9f3a"
            ],
            [
             0.8888888888888888,
             "#fdca26"
            ],
            [
             1,
             "#f0f921"
            ]
           ]
          },
          "colorway": [
           "#636efa",
           "#EF553B",
           "#00cc96",
           "#ab63fa",
           "#FFA15A",
           "#19d3f3",
           "#FF6692",
           "#B6E880",
           "#FF97FF",
           "#FECB52"
          ],
          "font": {
           "color": "#2a3f5f"
          },
          "geo": {
           "bgcolor": "white",
           "lakecolor": "white",
           "landcolor": "#E5ECF6",
           "showlakes": true,
           "showland": true,
           "subunitcolor": "white"
          },
          "hoverlabel": {
           "align": "left"
          },
          "hovermode": "closest",
          "mapbox": {
           "style": "light"
          },
          "paper_bgcolor": "white",
          "plot_bgcolor": "#E5ECF6",
          "polar": {
           "angularaxis": {
            "gridcolor": "white",
            "linecolor": "white",
            "ticks": ""
           },
           "bgcolor": "#E5ECF6",
           "radialaxis": {
            "gridcolor": "white",
            "linecolor": "white",
            "ticks": ""
           }
          },
          "scene": {
           "xaxis": {
            "backgroundcolor": "#E5ECF6",
            "gridcolor": "white",
            "gridwidth": 2,
            "linecolor": "white",
            "showbackground": true,
            "ticks": "",
            "zerolinecolor": "white"
           },
           "yaxis": {
            "backgroundcolor": "#E5ECF6",
            "gridcolor": "white",
            "gridwidth": 2,
            "linecolor": "white",
            "showbackground": true,
            "ticks": "",
            "zerolinecolor": "white"
           },
           "zaxis": {
            "backgroundcolor": "#E5ECF6",
            "gridcolor": "white",
            "gridwidth": 2,
            "linecolor": "white",
            "showbackground": true,
            "ticks": "",
            "zerolinecolor": "white"
           }
          },
          "shapedefaults": {
           "line": {
            "color": "#2a3f5f"
           }
          },
          "ternary": {
           "aaxis": {
            "gridcolor": "white",
            "linecolor": "white",
            "ticks": ""
           },
           "baxis": {
            "gridcolor": "white",
            "linecolor": "white",
            "ticks": ""
           },
           "bgcolor": "#E5ECF6",
           "caxis": {
            "gridcolor": "white",
            "linecolor": "white",
            "ticks": ""
           }
          },
          "title": {
           "x": 0.05
          },
          "xaxis": {
           "automargin": true,
           "gridcolor": "white",
           "linecolor": "white",
           "ticks": "",
           "title": {
            "standoff": 15
           },
           "zerolinecolor": "white",
           "zerolinewidth": 2
          },
          "yaxis": {
           "automargin": true,
           "gridcolor": "white",
           "linecolor": "white",
           "ticks": "",
           "title": {
            "standoff": 15
           },
           "zerolinecolor": "white",
           "zerolinewidth": 2
          }
         }
        },
        "title": {
         "font": {
          "family": "Arial",
          "size": 18
         },
         "text": "Distribution of Population_2023"
        },
        "xaxis": {
         "anchor": "y",
         "domain": [
          0,
          1
         ],
         "title": {
          "text": "Population_2023"
         }
        },
        "yaxis": {
         "anchor": "x",
         "domain": [
          0,
          1
         ],
         "title": {
          "text": "Count"
         }
        }
       }
      }
     },
     "metadata": {},
     "output_type": "display_data"
    },
    {
     "data": {
      "application/vnd.plotly.v1+json": {
       "config": {
        "plotlyServerURL": "https://plot.ly"
       },
       "data": [
        {
         "alignmentgroup": "True",
         "bingroup": "x",
         "hovertemplate": "Growth_Rate (%)=%{x}<br>count=%{y}<extra></extra>",
         "legendgroup": "",
         "marker": {
          "color": "#636efa",
          "pattern": {
           "shape": ""
          }
         },
         "name": "",
         "offsetgroup": "",
         "orientation": "v",
         "showlegend": false,
         "type": "histogram",
         "x": [
          1.3085739899160889,
          1.5689449621574494,
          4.871277923187378,
          1.314396287192704,
          4.344732920163106,
          2.715250354016157,
          1.6125398348142967,
          4.418374555726301,
          2.5038736475119947,
          2.8166780926836057,
          2.116550162298945,
          3.1682788314571733,
          1.2358574266326023,
          2.259866914932923,
          4.862355450508794,
          1.6616004471550738,
          3.4553149904358147,
          1.963355289011127,
          3.980629065589703,
          1.088931473232574,
          4.864194702853451,
          2.5420529362263764,
          1.5622270850590878,
          0.8307353629850569,
          1.2639105728939333,
          2.8389827685020794,
          2.016514293940788,
          4.229975146471743,
          2.4389938564781266,
          1.6192142266443346,
          3.2771524397181357,
          3.680497475984506,
          1.2516885855542743,
          1.2542864732974297,
          0.6650214212009433,
          3.813809067795382,
          3.4871203742981227,
          2.6358389408741623,
          4.298767020361387,
          4.12551568827524,
          3.134094639785385,
          4.407220762309664,
          1.4262854451654572,
          1.0036382872897756,
          1.7138732518264532,
          0.7568908524019169,
          2.890262876004644,
          4.714725615327327,
          0.6770459330082934,
          1.0494946130451206,
          2.534895627275459,
          4.702437578875572,
          1.9227024723953767,
          2.782556639097766,
          0.6870778657267644,
          1.1675444043294,
          4.939835553314811,
          4.843034133962205,
          0.5222299142048432,
          4.783153034404576,
          3.376039720169752,
          4.4056323253401,
          2.546329350352366,
          2.820182128606626,
          2.699809611156141,
          3.5008891589574693,
          1.128430646403408,
          0.6348811544270507,
          1.8856847371603591,
          3.6710634323149103,
          1.4083405345532676,
          3.530445949962128,
          4.864604207482717,
          0.9225532210523828,
          3.526709532013068,
          2.4968759868705703,
          4.406640144698774,
          1.2971740525132365,
          3.61681678501774,
          4.271518803416496,
          4.750763987633104,
          3.5746161273034063,
          2.737286438037923,
          3.2803125809054623,
          4.410072430154232,
          3.0677438598747337,
          0.6367417686357659,
          4.6892691297814,
          3.602870379642025,
          3.5443102359976093,
          1.4705381857897273,
          3.4649846160469573,
          2.272389825443713,
          3.4305483966867145,
          0.9796686363859582,
          3.460303870713662,
          4.997361765968,
          0.7169541748725021,
          4.897283828995928,
          2.3310858232529177,
          4.418390526517666,
          4.02073467826223,
          3.051573174440005,
          3.82302144163097,
          4.4533200258560655,
          2.3186314474296483,
          1.971649227034574,
          3.5041702350361312,
          4.135306738735664,
          3.930283106494771,
          4.090161419863855,
          2.4601249166581987,
          4.180253972787597,
          1.040940749167738,
          2.950200940823823,
          0.5259139722415471,
          1.9606362345512165,
          2.1490769069212905,
          2.282777112241649,
          3.62960243010438,
          2.248511455716556,
          2.519121301801388,
          1.5689485889344736,
          2.17963306233203,
          1.5227133226841816,
          0.8293816569579964,
          3.2155186702162006,
          3.506957593497573,
          3.2877065570432653,
          2.585723197102576,
          2.209036010806534,
          4.385001423073214,
          2.8358680331129813,
          2.656318449333789,
          0.6153892961289607,
          2.0356152243177035,
          2.2108802845363567,
          2.294702514036052,
          3.110775661522996,
          2.901211460270953,
          3.235572917570501,
          3.941974676939578,
          4.158435824222421,
          3.731553843019225,
          4.799856631797206,
          0.5820466220436273,
          1.3810009355759574,
          0.5340329374016395,
          3.413636213695713,
          4.541137470274941,
          1.5956703345933467,
          4.67165545158338,
          0.7712032563030238,
          4.704962120624814,
          2.082302092578355,
          0.9563937280214744,
          2.6864229163384654,
          1.6554945547422857,
          1.7819280588286528,
          1.8828048421682892,
          4.113616540246985,
          2.926225745038645,
          1.9008846462020164,
          3.2465020248991325,
          3.722678034004371,
          1.726808003300902,
          2.3609709568640818,
          1.048487420016264,
          1.3151720729060614,
          3.5650303428424226,
          1.3164725646303213,
          2.86323522650177,
          3.690708177750947,
          0.9809461539263472,
          3.052904988330066,
          1.654532526656137,
          4.8331709385691095,
          2.675955410239661,
          4.126966473988212,
          2.976019439703178,
          0.6953563978466862,
          3.349181190173101,
          4.781315039929956,
          3.2072531906584905,
          4.186349867420556,
          4.4789290850678345,
          1.526358973770196,
          1.45420177958702,
          3.249414449829463,
          2.349628114130171,
          4.279375862900242,
          4.55010405529105,
          2.0903962068622315,
          1.5659175153851692,
          4.012364818597378,
          1.7366271599666123,
          4.201764433311553,
          2.4068221414194326,
          3.503974546811617,
          0.9299089122560068,
          3.3073669610445786,
          2.532954554317531,
          3.1397380842896334,
          1.2560639348518854,
          3.81593185224882,
          4.382586848944529,
          1.4753291004084903,
          0.9307154998407278,
          0.6063736372085138,
          3.388871751994697,
          3.231923162399513,
          2.960138357213315,
          1.5437619325218894,
          2.259076981574816,
          3.175143508337779,
          2.7354508648662623,
          4.945034840966993,
          1.113978886505299,
          3.628150493214172,
          2.3194344564693146,
          2.4268982671652664,
          3.729189945461793,
          3.615962680959664,
          4.960651971659847,
          1.0777743025435635,
          0.9684934222287483,
          3.759524677079335,
          3.1027411265288407,
          1.7337229995191263,
          0.8573871604504397,
          0.8854621231839375,
          4.523858935988533,
          1.363402961234343,
          1.9551720295198436,
          1.519953810021446,
          2.097483376243718,
          0.8124072923574202,
          2.835769059087217,
          0.8042565361649671,
          4.101604285200628,
          1.5517043685969485,
          2.930053615720298,
          4.460355894026562,
          3.4289481607123737,
          2.898310039481009,
          1.9595018890191904,
          1.9985086087618904,
          3.5126912983918555,
          4.973627125495254,
          3.478276354322204,
          3.0100253781651123,
          3.787927296076608,
          2.593425255276732,
          0.7706405417035335,
          3.0303356714505942,
          4.809313780274211,
          1.2888632406094684,
          3.605022008692996,
          1.404201598965754,
          2.9112245801288656,
          0.9350440234102384,
          2.526669213161833,
          3.9027349800286073,
          2.0640718590754195,
          3.492102760192481,
          4.079524823553781,
          4.672300187657537,
          1.555889368349541,
          2.2969216211418866,
          1.1858720599868784,
          4.966175759712688,
          4.671504355659329,
          2.9298070862625183,
          4.289149824693896,
          2.8443108977241898,
          3.306135596012419,
          0.9010599445220748,
          3.898716892235636,
          1.0747106763585568,
          4.217304336136378,
          4.019126394516737,
          3.689351139843394,
          0.6627217123614295,
          1.8640776017539784,
          1.684006564598793,
          2.120613833621836,
          0.8943923604372734,
          4.716310203639782,
          2.9921100832056933,
          1.874859397961106,
          2.2864168268342757,
          2.5124114322717603,
          3.202674500122778,
          2.82055742463424,
          4.637263879464878,
          2.736335673076236,
          4.964711066704907,
          4.331412309852931,
          1.4382973146080111,
          4.687678465897623,
          1.0236487904846423,
          4.178523688210362,
          2.2128048206446103,
          4.450884442002813,
          4.406255105483527,
          4.126664300529296,
          4.055136963381776,
          1.8710561259411835,
          0.8641367737306348,
          2.3134108044432264,
          1.280860317439289,
          3.627279900061078,
          2.057448769420035,
          4.890245903869617,
          3.384374348053994,
          4.201162536354625,
          1.096361027338318,
          4.379065170226801,
          4.652407357310275,
          2.691778634685212,
          3.228138219879398,
          3.9416441040634793,
          1.2867738226718566,
          2.761547344085491,
          2.293983624975409,
          1.158682964730121,
          2.1539049003118915,
          0.8067753922347211,
          0.6161535812726915,
          1.1082483011967024,
          4.834018002151282,
          2.9728829115275763,
          4.84619972518949,
          2.446240452485594,
          1.903172598883668,
          2.7776383827810984,
          2.477802598848096,
          0.9754910791778476,
          3.383718416105928,
          1.4721718212931982,
          3.288145797040233,
          3.42590491579169,
          1.1841118390789165,
          0.7760733219980067,
          4.013427137307979,
          2.569101906961941,
          0.761737079774641,
          4.9768984272639525,
          0.7600125244836499,
          3.62765852986349,
          4.926555163685361,
          1.5763104689716654,
          1.140122159092383,
          1.04623222740093,
          1.86473816405418,
          0.95470614954791,
          3.6147260376235937,
          0.7803130915852821,
          2.792399576674054,
          4.985135842338396,
          4.162866212777084,
          3.268487472039549,
          1.8781412935397528,
          3.307531263312373,
          2.8716865876024324,
          2.417375227506672,
          1.0881966953308977,
          4.4897189685821,
          2.524030919695951,
          1.3758013031934428,
          2.154917078947803,
          2.363583886380172,
          4.223920530050934,
          3.801264712526309,
          3.961872021386029,
          0.5496406899289125,
          2.372692991808927,
          2.6660486823589564,
          0.5863652457037551,
          1.669159439352654,
          3.921304204049608,
          1.1169936757804957,
          2.9088955915366626,
          1.4684084240775688,
          0.5545434858975198,
          1.5854065591979367,
          4.891431897095242,
          4.106917003473454,
          4.818094899444651,
          2.695343197668631,
          0.9938128940487658,
          2.9658177003816184,
          2.544698005519824,
          4.299606872328272,
          0.9413716135291006,
          2.697085116598002,
          1.1752189911229292,
          1.9610416710052696,
          3.8181068482450975,
          2.642081582159449,
          2.191497283155962,
          2.275143253565159,
          2.56751045782694,
          4.032574447266756,
          4.514381100231055,
          4.799006089267677,
          4.041065238148828,
          1.9193310308660572,
          3.59660617738944,
          2.469214058249264,
          1.6460177992072302,
          4.283922107416652,
          0.6729185703304625,
          4.557928964609406,
          2.5766485908113035,
          3.3674066456372618,
          3.4670926499260224,
          4.5280298331794135,
          3.365013569752433,
          3.262701131420278,
          0.7999341825231048,
          2.8328360987534182,
          1.1757605036766874,
          3.818451959246685,
          2.804998643657035,
          3.56102500643759,
          0.6875280527107293,
          0.8815640722061144,
          3.7234552462820703,
          0.8243795119940301,
          0.8206552749436637,
          0.5544881385569935,
          4.80425629234766,
          3.818787617565531,
          2.089631338259289,
          1.8344101157944488,
          2.073664533856323,
          3.985940890315318,
          3.476167749816865,
          1.3333800554036055,
          1.2834920090033797,
          0.942780423710288,
          3.4713622386560217,
          3.939676979997812,
          1.692708927462518,
          0.5942523246391076,
          0.869772503643923,
          4.855370156802637,
          1.829501498648391,
          3.9615041652716014,
          3.310986059844187,
          2.218728378438032,
          1.425592679879998,
          1.046238881717329,
          3.2675583561749,
          3.985852012870046,
          3.397569140935088,
          2.8863595996212124,
          0.6887805054423632,
          4.858199499174727,
          4.094213862445585,
          1.8176991651543413,
          4.909866482114828,
          3.2084671533634497,
          3.120901961932609,
          3.866329307432895,
          4.152964046405619,
          3.4541537329917618,
          1.0764308586479,
          2.0222037769752426,
          4.676376381467224,
          1.5107702532973335,
          2.17475160726881,
          2.4443459732488817,
          2.477322453625035,
          3.2582281212253648,
          4.743841269851184,
          1.5831172032462724,
          1.0467561933541312,
          1.388617204369718,
          4.491162050941712,
          3.406148656948427,
          1.7865805515762203,
          4.171761225358777,
          4.376164983635462,
          4.309314524106251,
          4.635169401377995,
          1.635084590780127,
          3.897688679358253,
          2.57242773773363,
          4.288993488005277,
          3.7782080472272592,
          3.9940135092487608,
          3.4527282695648216,
          1.298429462613681,
          2.9526211350362224,
          4.931013827860287,
          4.718246299237035,
          0.6942818110865525,
          1.241666670782467,
          1.0927794805455286,
          3.76690959493383,
          4.180033984356253,
          1.4608011483980237,
          2.7763371182832306,
          4.2831636260504,
          3.797606951448128,
          2.9400674247133174,
          3.156564607064478,
          2.78762246112326,
          1.8389680309346923,
          3.0425989678655725,
          3.599983859225408,
          4.429953121373634,
          3.363311092906616,
          3.925046916694211,
          1.2203223572955784,
          2.5770086348890544,
          0.5419922892219198,
          1.6100548903473035,
          3.7690777180085218,
          4.963144781072136,
          0.9463014481424716,
          2.3067244213757974,
          4.1003193591462175,
          1.4181603558300448,
          2.997882271860288,
          3.798820832133536,
          3.271934526170805,
          1.3461113057693723,
          2.099230559085828,
          4.027063030184287,
          2.994019313594075,
          0.5235332609431074,
          3.924458420126422,
          0.6589010972310758,
          3.8558020222905447,
          1.4111625207435683,
          4.811330660537211,
          2.15573338085938,
          1.971192273521356,
          1.169996226496001,
          1.875218969705967,
          4.444928428226902,
          4.983504519322613,
          2.157392887280817,
          2.518747839295441,
          3.749319221912317,
          4.487881012092835,
          3.168699503840529,
          2.261865641800232,
          2.356798283818807,
          3.630281659235631,
          0.5144821862192541,
          3.288152018569283,
          2.099718546986108,
          4.073887990746879,
          0.9184578792040948,
          3.146910201267757,
          2.6643780044875567,
          3.3904648665735238,
          0.7918411751733576,
          3.1099270434265907,
          3.026680645817857,
          3.0229704248727693,
          3.215694499684046,
          3.54410571751863,
          4.122450498563464,
          1.7141932405769644,
          4.212722345810279,
          2.742150570185541,
          0.8467622561044903,
          0.7634791815979064,
          2.004072434132273,
          4.032036397001604,
          3.684564206334121,
          4.04876734102583,
          2.827710753987242,
          2.4808954907997074,
          1.1635363701782775,
          1.976867391241902,
          2.4530871477824387,
          0.8987019335582775,
          1.4927537872004506,
          3.1920138232868247,
          3.810484014076354,
          4.992563801268274,
          4.69900999104601,
          3.391543397908362,
          2.3956162398233243,
          3.362798141187047,
          4.035432281361044,
          1.032512859155243,
          2.344572003633297,
          4.279110285360277,
          2.2272482836986978,
          3.07342522052234,
          3.144962123879892,
          1.3301431391013772,
          2.1300594874352976,
          2.005300799338695,
          0.6178851883942915,
          0.6088629375110985,
          4.2426366965409805,
          1.728818644877656,
          2.831354448074669,
          1.8442650811494787,
          4.733056603019032,
          1.666835414895982,
          2.433455657325208,
          4.427286127180708,
          4.288701050563139,
          1.337456380308248,
          4.111894894080697,
          2.561840990320517,
          2.673359924384098,
          1.100659875871747,
          0.8627068119070609,
          3.775726881381943,
          2.734075185598849,
          2.465828161768308,
          3.782787028935785,
          3.944808045459994,
          1.215086754512091,
          3.246013172649386,
          1.1090933702495849,
          3.8811878871307055,
          3.456298203202128,
          4.804765794875561,
          0.8103110736038953,
          0.7567462451806444,
          1.7698418361194006,
          1.677675576811577,
          1.6114045958239993,
          4.578145612344665,
          1.6229578993227776,
          1.7237737675788396,
          3.9172921808808367,
          2.52382929102743,
          3.9951975062983154,
          0.7941477090397335,
          2.694070371530229,
          0.6512612008247718,
          0.7819394155490953,
          4.578968540049849,
          1.1266041700291782,
          2.895893070238477,
          2.3499302117031795,
          2.063044968164792,
          4.549250055592726,
          0.5982052854897028,
          3.4870535877901507,
          4.835274953960977,
          3.020756825578289,
          4.715701079148913,
          0.735160456787107,
          2.384569935833726,
          1.67071005932923,
          3.788694342413284,
          4.91583690723761,
          1.654385280999115,
          3.443785706633335,
          1.391439347418831,
          3.0439861455722443,
          2.587696190097513,
          4.8740239833419166,
          3.2383727271341,
          2.0727786743906846,
          1.0134310319957,
          1.1806107293072057,
          1.5139261847805578,
          1.629349976031341,
          4.32777226028512,
          3.025502547271362,
          2.855259101184649,
          1.0164599234114786,
          4.370628620072457,
          3.7526643644381767,
          0.8045076285500071,
          3.685257937533959,
          2.9459219780419077,
          0.8677640558605022,
          2.562352886878954,
          2.681133292085212,
          1.2459854307347409,
          4.75564166150127,
          4.324889171662979,
          3.510600517980988,
          2.5803300245027323,
          2.3529449371302884,
          3.4293806021792936,
          2.9544434123310745,
          0.7802289764684853,
          2.8062619194664924,
          4.128816277547777,
          2.566579449186311,
          0.7338045989942079,
          4.0382518972281485,
          1.4061370196118848,
          1.6637937569961745,
          1.2411785904453314,
          1.985967791921739,
          3.905381775598858,
          2.837236367767718,
          1.4219657336782066,
          4.450235351684183,
          4.458118347281881,
          4.417602912707031,
          1.5745829512169267,
          2.5305770488144463,
          4.932453452633938,
          3.974056143394957,
          0.6222533955150191,
          0.7934206606722143,
          2.587691195655497,
          4.591490926377021,
          2.924158090787214,
          2.740156286154306,
          0.9746316498048376,
          3.4555104712593234,
          4.199464222701015,
          2.2118900337840306,
          3.9902533291639735,
          4.8401449425536525,
          1.416949066074601,
          2.854983340376336,
          1.79212081138059,
          4.067844885652277,
          3.099170146465209,
          3.355620878976367,
          4.090613718271523,
          2.281867126981047,
          4.617905307831695,
          2.8986299026076296,
          1.210796702759066,
          3.631546031759611,
          4.069676076972145,
          1.92542754680387,
          4.357306656494389,
          4.577644646445949,
          1.74607019320014,
          4.925846627218499,
          1.133201876219413,
          1.409070507811205,
          1.3290117765711176,
          4.522953695035417,
          3.4443164854623283,
          1.184469274500228,
          2.4814553826575705,
          3.2688411128141093,
          0.8755883824522248,
          4.470873657833025,
          4.116215909486908,
          2.773430481094872,
          4.852069768666267,
          2.3799244067379486,
          4.92849643566424,
          3.5056399946163217,
          3.3560207296427365,
          1.2467970288310326,
          4.468674912370898,
          2.423703595642768,
          1.230050326021157,
          0.5567338398909156,
          3.018900576372721,
          2.8732982995520437,
          3.7370913006612136,
          4.50616123858011,
          0.8573296308936329,
          3.7917342065316304,
          1.34335374843912,
          4.361796739207238,
          4.1857858123774525,
          2.9335718974349496,
          3.696092593804902,
          1.914575509326868,
          2.620255545197666,
          4.197366039697123,
          2.5666933872794626,
          2.110092193964488,
          2.7239560126263496,
          4.227121635967483,
          2.0084362131689275,
          1.2819271691108471,
          3.704063091488513,
          4.216901957186368,
          0.9528686533559,
          1.5794335074017511,
          1.1388739539244723,
          2.0657363521197496,
          2.526579405074357,
          3.869718516334879,
          3.4301641319675333,
          3.2941785536529404,
          2.0856872597434446,
          4.28651398888142,
          2.6207922532917407,
          4.905972221068195,
          3.353639622330816,
          1.0681913370402625,
          3.542799029339453,
          1.9629680694426452,
          3.5884723850874383,
          0.8133851667308258,
          1.2869664672918173,
          4.350817665076038,
          1.522308006605817,
          4.26668506359323,
          1.7567423980448469,
          3.3929685952641844,
          3.62367758079424,
          2.8069463891527384,
          1.873898045135291,
          1.4568996936699323,
          0.649352095530918,
          1.8677588055832568,
          3.4392325573907736,
          4.722371683018172,
          4.420420170183734,
          3.9472914944088617,
          4.048013044639844,
          3.4924320656419785,
          1.6712908590470137,
          4.582377638176235,
          3.518295403576253,
          3.02198283941198,
          0.9994526114606648,
          2.5117499471289144,
          2.571612220408668,
          4.390536242852015,
          2.959916990845048,
          2.2118024703668437,
          4.895601478297967,
          0.9982426699684206,
          2.4014679274037505,
          0.6891110382713238,
          3.8295685434511855,
          4.631344484896178,
          1.7601679829772023,
          4.3625375455960445,
          1.81498203707854,
          4.598465727397619,
          3.892828566185528,
          4.122080495786474,
          0.5810295002020452,
          4.832646606833117,
          3.770019464316455,
          1.8713799292376,
          4.232275991864811,
          1.7668453928671848,
          4.427392278047575,
          1.0066117568537165,
          3.666586898573581,
          2.9331431449020964,
          0.9344051158794836,
          1.5885222271647754,
          0.5558181632479166,
          2.6094558445902765,
          1.8556936734200016,
          3.192608679339915,
          1.8375701346887772,
          1.849636001781431,
          3.8443693942922152,
          0.7166427619025906,
          4.563027478363942,
          4.335187434760316,
          3.5051210745188293,
          3.1694970654832293,
          4.515361241628435,
          1.333985807879215,
          0.8553612298587288,
          1.5777957645929217,
          4.075602254150857,
          0.656016200269175,
          3.1226307578757035,
          4.979468822860895,
          4.350632422268927,
          2.8465056006961524,
          0.7863840917898905,
          4.241180814735694,
          3.195403286797448,
          1.0171984867680508,
          0.922357781705103,
          4.593320687464666,
          3.511401183221353,
          4.2317905969254,
          4.455405051270203,
          3.07297558421745,
          2.828508582897686,
          2.436923346444456,
          1.9262596450600369,
          2.455681823864203,
          3.982458450785704,
          3.208655439568092,
          4.516354804796808,
          2.495210064706345,
          3.231903104234393,
          3.340883988913949,
          3.162637230378465,
          3.661851978884824,
          1.5684506076866285,
          2.805636998956058,
          0.9690116126375644,
          2.2303009744016564,
          2.69450180879569,
          3.435009167954626,
          4.777389736637915,
          3.2029297994676016,
          3.846172622794519,
          2.7781972677284124,
          3.353468141193491,
          0.8191949726019805,
          1.6447621137883115,
          2.128338919423124,
          2.626220097529311,
          0.7054193547607268,
          1.1301084389899296,
          1.745664385060876,
          4.871897109054728,
          1.9910615319637284,
          2.669184761504372,
          1.382439707322768,
          3.2485103198409573,
          1.7630744698218843,
          1.4314666029729204,
          2.8245768280069057,
          0.5247760962218937,
          0.5344881469215139,
          1.48580964095836,
          0.6652461312536951,
          0.9861158935881112,
          2.0248729220243824,
          4.111635558109158,
          3.0742188951618536,
          2.807004766803874,
          1.8206997044365476,
          4.692891737447674,
          2.2865676855673627,
          0.8919174505809717,
          3.2767993225301058,
          1.0122727706447063,
          2.0535041426076144,
          2.78335372423014,
          4.434001361083292,
          2.720959611530534,
          3.660164447142489,
          4.967675775495817,
          1.0917010395409172,
          1.7362918648378378,
          2.2755923401894087,
          2.398226803424741,
          2.349594838694956,
          4.584249511504497,
          3.713146900100854,
          3.235573463408167,
          1.8921772303825195,
          4.207056728995826,
          4.79777230168245,
          4.19539227147602,
          0.5070429733616281,
          3.3638061658253315,
          0.7301092164894533,
          1.6592324915017485,
          0.7678611515649726,
          3.217079538272245,
          3.5896546107167304,
          1.015194371296573,
          2.227274973702408,
          2.553064290299939,
          2.1607385979241247,
          1.0446125021833688,
          2.3852650558436395,
          3.8803012151378815,
          0.8195344903996495,
          0.8608100633685656,
          2.096470813261929,
          4.737765702285163,
          3.508576910253113,
          3.554014805026541,
          2.1286399587703926,
          3.171473560438423,
          0.5455903281248452,
          3.36243220884294,
          4.609791264093065,
          3.2565806075516863,
          4.431643670598553,
          3.757878749597422,
          1.042512873816606,
          4.561039882786288,
          0.798997299600987,
          2.902853626464937,
          1.1396170570705595,
          0.5526797482890683,
          2.3991541705743757,
          1.8276831844437031,
          2.6870022220892134,
          3.0973994903054787,
          0.696825825390263,
          1.0535148280568554,
          3.013890784026914
         ],
         "xaxis": "x",
         "yaxis": "y"
        }
       ],
       "layout": {
        "barmode": "relative",
        "legend": {
         "tracegroupgap": 0
        },
        "paper_bgcolor": "rgba(0,0,0,0)",
        "plot_bgcolor": "rgba(0,0,0,0)",
        "template": {
         "data": {
          "bar": [
           {
            "error_x": {
             "color": "#2a3f5f"
            },
            "error_y": {
             "color": "#2a3f5f"
            },
            "marker": {
             "line": {
              "color": "#E5ECF6",
              "width": 0.5
             },
             "pattern": {
              "fillmode": "overlay",
              "size": 10,
              "solidity": 0.2
             }
            },
            "type": "bar"
           }
          ],
          "barpolar": [
           {
            "marker": {
             "line": {
              "color": "#E5ECF6",
              "width": 0.5
             },
             "pattern": {
              "fillmode": "overlay",
              "size": 10,
              "solidity": 0.2
             }
            },
            "type": "barpolar"
           }
          ],
          "carpet": [
           {
            "aaxis": {
             "endlinecolor": "#2a3f5f",
             "gridcolor": "white",
             "linecolor": "white",
             "minorgridcolor": "white",
             "startlinecolor": "#2a3f5f"
            },
            "baxis": {
             "endlinecolor": "#2a3f5f",
             "gridcolor": "white",
             "linecolor": "white",
             "minorgridcolor": "white",
             "startlinecolor": "#2a3f5f"
            },
            "type": "carpet"
           }
          ],
          "choropleth": [
           {
            "colorbar": {
             "outlinewidth": 0,
             "ticks": ""
            },
            "type": "choropleth"
           }
          ],
          "contour": [
           {
            "colorbar": {
             "outlinewidth": 0,
             "ticks": ""
            },
            "colorscale": [
             [
              0,
              "#0d0887"
             ],
             [
              0.1111111111111111,
              "#46039f"
             ],
             [
              0.2222222222222222,
              "#7201a8"
             ],
             [
              0.3333333333333333,
              "#9c179e"
             ],
             [
              0.4444444444444444,
              "#bd3786"
             ],
             [
              0.5555555555555556,
              "#d8576b"
             ],
             [
              0.6666666666666666,
              "#ed7953"
             ],
             [
              0.7777777777777778,
              "#fb9f3a"
             ],
             [
              0.8888888888888888,
              "#fdca26"
             ],
             [
              1,
              "#f0f921"
             ]
            ],
            "type": "contour"
           }
          ],
          "contourcarpet": [
           {
            "colorbar": {
             "outlinewidth": 0,
             "ticks": ""
            },
            "type": "contourcarpet"
           }
          ],
          "heatmap": [
           {
            "colorbar": {
             "outlinewidth": 0,
             "ticks": ""
            },
            "colorscale": [
             [
              0,
              "#0d0887"
             ],
             [
              0.1111111111111111,
              "#46039f"
             ],
             [
              0.2222222222222222,
              "#7201a8"
             ],
             [
              0.3333333333333333,
              "#9c179e"
             ],
             [
              0.4444444444444444,
              "#bd3786"
             ],
             [
              0.5555555555555556,
              "#d8576b"
             ],
             [
              0.6666666666666666,
              "#ed7953"
             ],
             [
              0.7777777777777778,
              "#fb9f3a"
             ],
             [
              0.8888888888888888,
              "#fdca26"
             ],
             [
              1,
              "#f0f921"
             ]
            ],
            "type": "heatmap"
           }
          ],
          "heatmapgl": [
           {
            "colorbar": {
             "outlinewidth": 0,
             "ticks": ""
            },
            "colorscale": [
             [
              0,
              "#0d0887"
             ],
             [
              0.1111111111111111,
              "#46039f"
             ],
             [
              0.2222222222222222,
              "#7201a8"
             ],
             [
              0.3333333333333333,
              "#9c179e"
             ],
             [
              0.4444444444444444,
              "#bd3786"
             ],
             [
              0.5555555555555556,
              "#d8576b"
             ],
             [
              0.6666666666666666,
              "#ed7953"
             ],
             [
              0.7777777777777778,
              "#fb9f3a"
             ],
             [
              0.8888888888888888,
              "#fdca26"
             ],
             [
              1,
              "#f0f921"
             ]
            ],
            "type": "heatmapgl"
           }
          ],
          "histogram": [
           {
            "marker": {
             "pattern": {
              "fillmode": "overlay",
              "size": 10,
              "solidity": 0.2
             }
            },
            "type": "histogram"
           }
          ],
          "histogram2d": [
           {
            "colorbar": {
             "outlinewidth": 0,
             "ticks": ""
            },
            "colorscale": [
             [
              0,
              "#0d0887"
             ],
             [
              0.1111111111111111,
              "#46039f"
             ],
             [
              0.2222222222222222,
              "#7201a8"
             ],
             [
              0.3333333333333333,
              "#9c179e"
             ],
             [
              0.4444444444444444,
              "#bd3786"
             ],
             [
              0.5555555555555556,
              "#d8576b"
             ],
             [
              0.6666666666666666,
              "#ed7953"
             ],
             [
              0.7777777777777778,
              "#fb9f3a"
             ],
             [
              0.8888888888888888,
              "#fdca26"
             ],
             [
              1,
              "#f0f921"
             ]
            ],
            "type": "histogram2d"
           }
          ],
          "histogram2dcontour": [
           {
            "colorbar": {
             "outlinewidth": 0,
             "ticks": ""
            },
            "colorscale": [
             [
              0,
              "#0d0887"
             ],
             [
              0.1111111111111111,
              "#46039f"
             ],
             [
              0.2222222222222222,
              "#7201a8"
             ],
             [
              0.3333333333333333,
              "#9c179e"
             ],
             [
              0.4444444444444444,
              "#bd3786"
             ],
             [
              0.5555555555555556,
              "#d8576b"
             ],
             [
              0.6666666666666666,
              "#ed7953"
             ],
             [
              0.7777777777777778,
              "#fb9f3a"
             ],
             [
              0.8888888888888888,
              "#fdca26"
             ],
             [
              1,
              "#f0f921"
             ]
            ],
            "type": "histogram2dcontour"
           }
          ],
          "mesh3d": [
           {
            "colorbar": {
             "outlinewidth": 0,
             "ticks": ""
            },
            "type": "mesh3d"
           }
          ],
          "parcoords": [
           {
            "line": {
             "colorbar": {
              "outlinewidth": 0,
              "ticks": ""
             }
            },
            "type": "parcoords"
           }
          ],
          "pie": [
           {
            "automargin": true,
            "type": "pie"
           }
          ],
          "scatter": [
           {
            "fillpattern": {
             "fillmode": "overlay",
             "size": 10,
             "solidity": 0.2
            },
            "type": "scatter"
           }
          ],
          "scatter3d": [
           {
            "line": {
             "colorbar": {
              "outlinewidth": 0,
              "ticks": ""
             }
            },
            "marker": {
             "colorbar": {
              "outlinewidth": 0,
              "ticks": ""
             }
            },
            "type": "scatter3d"
           }
          ],
          "scattercarpet": [
           {
            "marker": {
             "colorbar": {
              "outlinewidth": 0,
              "ticks": ""
             }
            },
            "type": "scattercarpet"
           }
          ],
          "scattergeo": [
           {
            "marker": {
             "colorbar": {
              "outlinewidth": 0,
              "ticks": ""
             }
            },
            "type": "scattergeo"
           }
          ],
          "scattergl": [
           {
            "marker": {
             "colorbar": {
              "outlinewidth": 0,
              "ticks": ""
             }
            },
            "type": "scattergl"
           }
          ],
          "scattermapbox": [
           {
            "marker": {
             "colorbar": {
              "outlinewidth": 0,
              "ticks": ""
             }
            },
            "type": "scattermapbox"
           }
          ],
          "scatterpolar": [
           {
            "marker": {
             "colorbar": {
              "outlinewidth": 0,
              "ticks": ""
             }
            },
            "type": "scatterpolar"
           }
          ],
          "scatterpolargl": [
           {
            "marker": {
             "colorbar": {
              "outlinewidth": 0,
              "ticks": ""
             }
            },
            "type": "scatterpolargl"
           }
          ],
          "scatterternary": [
           {
            "marker": {
             "colorbar": {
              "outlinewidth": 0,
              "ticks": ""
             }
            },
            "type": "scatterternary"
           }
          ],
          "surface": [
           {
            "colorbar": {
             "outlinewidth": 0,
             "ticks": ""
            },
            "colorscale": [
             [
              0,
              "#0d0887"
             ],
             [
              0.1111111111111111,
              "#46039f"
             ],
             [
              0.2222222222222222,
              "#7201a8"
             ],
             [
              0.3333333333333333,
              "#9c179e"
             ],
             [
              0.4444444444444444,
              "#bd3786"
             ],
             [
              0.5555555555555556,
              "#d8576b"
             ],
             [
              0.6666666666666666,
              "#ed7953"
             ],
             [
              0.7777777777777778,
              "#fb9f3a"
             ],
             [
              0.8888888888888888,
              "#fdca26"
             ],
             [
              1,
              "#f0f921"
             ]
            ],
            "type": "surface"
           }
          ],
          "table": [
           {
            "cells": {
             "fill": {
              "color": "#EBF0F8"
             },
             "line": {
              "color": "white"
             }
            },
            "header": {
             "fill": {
              "color": "#C8D4E3"
             },
             "line": {
              "color": "white"
             }
            },
            "type": "table"
           }
          ]
         },
         "layout": {
          "annotationdefaults": {
           "arrowcolor": "#2a3f5f",
           "arrowhead": 0,
           "arrowwidth": 1
          },
          "autotypenumbers": "strict",
          "coloraxis": {
           "colorbar": {
            "outlinewidth": 0,
            "ticks": ""
           }
          },
          "colorscale": {
           "diverging": [
            [
             0,
             "#8e0152"
            ],
            [
             0.1,
             "#c51b7d"
            ],
            [
             0.2,
             "#de77ae"
            ],
            [
             0.3,
             "#f1b6da"
            ],
            [
             0.4,
             "#fde0ef"
            ],
            [
             0.5,
             "#f7f7f7"
            ],
            [
             0.6,
             "#e6f5d0"
            ],
            [
             0.7,
             "#b8e186"
            ],
            [
             0.8,
             "#7fbc41"
            ],
            [
             0.9,
             "#4d9221"
            ],
            [
             1,
             "#276419"
            ]
           ],
           "sequential": [
            [
             0,
             "#0d0887"
            ],
            [
             0.1111111111111111,
             "#46039f"
            ],
            [
             0.2222222222222222,
             "#7201a8"
            ],
            [
             0.3333333333333333,
             "#9c179e"
            ],
            [
             0.4444444444444444,
             "#bd3786"
            ],
            [
             0.5555555555555556,
             "#d8576b"
            ],
            [
             0.6666666666666666,
             "#ed7953"
            ],
            [
             0.7777777777777778,
             "#fb9f3a"
            ],
            [
             0.8888888888888888,
             "#fdca26"
            ],
            [
             1,
             "#f0f921"
            ]
           ],
           "sequentialminus": [
            [
             0,
             "#0d0887"
            ],
            [
             0.1111111111111111,
             "#46039f"
            ],
            [
             0.2222222222222222,
             "#7201a8"
            ],
            [
             0.3333333333333333,
             "#9c179e"
            ],
            [
             0.4444444444444444,
             "#bd3786"
            ],
            [
             0.5555555555555556,
             "#d8576b"
            ],
            [
             0.6666666666666666,
             "#ed7953"
            ],
            [
             0.7777777777777778,
             "#fb9f3a"
            ],
            [
             0.8888888888888888,
             "#fdca26"
            ],
            [
             1,
             "#f0f921"
            ]
           ]
          },
          "colorway": [
           "#636efa",
           "#EF553B",
           "#00cc96",
           "#ab63fa",
           "#FFA15A",
           "#19d3f3",
           "#FF6692",
           "#B6E880",
           "#FF97FF",
           "#FECB52"
          ],
          "font": {
           "color": "#2a3f5f"
          },
          "geo": {
           "bgcolor": "white",
           "lakecolor": "white",
           "landcolor": "#E5ECF6",
           "showlakes": true,
           "showland": true,
           "subunitcolor": "white"
          },
          "hoverlabel": {
           "align": "left"
          },
          "hovermode": "closest",
          "mapbox": {
           "style": "light"
          },
          "paper_bgcolor": "white",
          "plot_bgcolor": "#E5ECF6",
          "polar": {
           "angularaxis": {
            "gridcolor": "white",
            "linecolor": "white",
            "ticks": ""
           },
           "bgcolor": "#E5ECF6",
           "radialaxis": {
            "gridcolor": "white",
            "linecolor": "white",
            "ticks": ""
           }
          },
          "scene": {
           "xaxis": {
            "backgroundcolor": "#E5ECF6",
            "gridcolor": "white",
            "gridwidth": 2,
            "linecolor": "white",
            "showbackground": true,
            "ticks": "",
            "zerolinecolor": "white"
           },
           "yaxis": {
            "backgroundcolor": "#E5ECF6",
            "gridcolor": "white",
            "gridwidth": 2,
            "linecolor": "white",
            "showbackground": true,
            "ticks": "",
            "zerolinecolor": "white"
           },
           "zaxis": {
            "backgroundcolor": "#E5ECF6",
            "gridcolor": "white",
            "gridwidth": 2,
            "linecolor": "white",
            "showbackground": true,
            "ticks": "",
            "zerolinecolor": "white"
           }
          },
          "shapedefaults": {
           "line": {
            "color": "#2a3f5f"
           }
          },
          "ternary": {
           "aaxis": {
            "gridcolor": "white",
            "linecolor": "white",
            "ticks": ""
           },
           "baxis": {
            "gridcolor": "white",
            "linecolor": "white",
            "ticks": ""
           },
           "bgcolor": "#E5ECF6",
           "caxis": {
            "gridcolor": "white",
            "linecolor": "white",
            "ticks": ""
           }
          },
          "title": {
           "x": 0.05
          },
          "xaxis": {
           "automargin": true,
           "gridcolor": "white",
           "linecolor": "white",
           "ticks": "",
           "title": {
            "standoff": 15
           },
           "zerolinecolor": "white",
           "zerolinewidth": 2
          },
          "yaxis": {
           "automargin": true,
           "gridcolor": "white",
           "linecolor": "white",
           "ticks": "",
           "title": {
            "standoff": 15
           },
           "zerolinecolor": "white",
           "zerolinewidth": 2
          }
         }
        },
        "title": {
         "font": {
          "family": "Arial",
          "size": 18
         },
         "text": "Distribution of Growth_Rate (%)"
        },
        "xaxis": {
         "anchor": "y",
         "domain": [
          0,
          1
         ],
         "title": {
          "text": "Growth_Rate (%)"
         }
        },
        "yaxis": {
         "anchor": "x",
         "domain": [
          0,
          1
         ],
         "title": {
          "text": "Count"
         }
        }
       }
      }
     },
     "metadata": {},
     "output_type": "display_data"
    },
    {
     "data": {
      "application/vnd.plotly.v1+json": {
       "config": {
        "plotlyServerURL": "https://plot.ly"
       },
       "data": [
        {
         "alignmentgroup": "True",
         "bingroup": "x",
         "hovertemplate": "Population_2024=%{x}<br>count=%{y}<extra></extra>",
         "legendgroup": "",
         "marker": {
          "color": "#636efa",
          "pattern": {
           "shape": ""
          }
         },
         "name": "",
         "offsetgroup": "",
         "orientation": "v",
         "showlegend": false,
         "type": "histogram",
         "x": [
          27187687,
          11856929,
          23283230,
          11590507,
          3957197,
          12643642,
          21475703,
          7046188,
          5524979,
          3785421,
          19063026,
          14013386,
          18846043,
          25713120,
          27962741,
          23514369,
          29567835,
          10897897,
          10280901,
          12666116,
          22124607,
          20853452,
          17126955,
          20219912,
          25050413,
          25865863,
          17946399,
          7896166,
          3075550,
          7379694,
          14165111,
          30575531,
          7767339,
          18500988,
          12718516,
          15364433,
          4737874,
          24556904,
          29407327,
          3568943,
          20103770,
          1376513,
          9997471,
          11659158,
          27134448,
          29308801,
          21498290,
          10757328,
          24244941,
          22243275,
          2972219,
          28683400,
          19156014,
          26601385,
          5699924,
          12291550,
          22515158,
          15472366,
          19459843,
          15117175,
          20535106,
          6114460,
          26812052,
          8079258,
          29695652,
          2066426,
          27241043,
          20508220,
          28063464,
          7496681,
          22194445,
          12726115,
          4577020,
          14094908,
          11988424,
          19292677,
          7085311,
          23993097,
          8794316,
          28634133,
          1645059,
          27121676,
          2021195,
          12645297,
          3562627,
          6595169,
          17516394,
          22120285,
          22285034,
          10797087,
          12872769,
          8300308,
          24081203,
          21364427,
          30038136,
          22869976,
          14159481,
          25391498,
          10125557,
          15033627,
          24811793,
          13218817,
          15711421,
          3835520,
          11547397,
          7685801,
          15072438,
          23183145,
          10389551,
          14973861,
          1773344,
          19552261,
          5304959,
          14922943,
          15456328,
          20544135,
          11203647,
          22187659,
          22780654,
          7351967,
          10862292,
          28491268,
          11531695,
          23802318,
          4516418,
          15066331,
          28170635,
          30717628,
          23744613,
          15894169,
          14810433,
          12181139,
          18142320,
          9619165,
          11243284,
          17898547,
          23124174,
          12770990,
          8712455,
          17197970,
          22526291,
          15424047,
          18437345,
          21140680,
          4651594,
          1082482,
          24996692,
          18646308,
          6803664,
          12477349,
          15562758,
          14718256,
          29874584,
          21949227,
          19911471,
          9829464,
          17820495,
          10024182,
          25897720,
          3764514,
          5444324,
          20275798,
          16411240,
          8282284,
          19453452,
          10466155,
          10233388,
          8439778,
          29552260,
          18928675,
          3001161,
          9242899,
          1670678,
          18727875,
          17307733,
          25950156,
          5494684,
          23911576,
          2956615,
          7794905,
          21598579,
          20467061,
          14974995,
          25808268,
          8863470,
          7524842,
          22454027,
          11039089,
          4673829,
          10020570,
          20632900,
          23244028,
          26802587,
          8042892,
          22460078,
          21521090,
          17530440,
          20189601,
          14274131,
          11580563,
          12256537,
          7376175,
          15036920,
          2739194,
          24100209,
          16210006,
          29078154,
          8348459,
          24353610,
          4410984,
          14957945,
          26665713,
          26281561,
          28785597,
          22581010,
          6677386,
          15818353,
          14283626,
          5452857,
          18281729,
          11210408,
          14314759,
          11804227,
          16099670,
          2761914,
          21153707,
          14640233,
          12419153,
          16456057,
          3892332,
          18828512,
          1382764,
          29501247,
          20414611,
          1133712,
          10899103,
          10251537,
          17466911,
          29939241,
          16673683,
          13078309,
          11070601,
          2104802,
          28683609,
          3519702,
          12205752,
          28198363,
          27280024,
          3834784,
          21813917,
          14227143,
          24562671,
          8150145,
          7294580,
          15616718,
          23628802,
          14861402,
          19160683,
          26585190,
          8017780,
          4795623,
          30539960,
          26128057,
          17078282,
          4282653,
          2317305,
          5426270,
          10115799,
          16384273,
          13970782,
          2625040,
          10799771,
          21842554,
          27667181,
          2468554,
          24488542,
          15278512,
          1757713,
          1405665,
          11376928,
          10962112,
          25540417,
          16824406,
          21508738,
          21428141,
          20317447,
          7897305,
          25158103,
          15015253,
          26176553,
          29504267,
          6050965,
          19250649,
          7436742,
          2376203,
          13306732,
          2161876,
          5657240,
          18025863,
          19006446,
          27149586,
          5345899,
          10630872,
          28004339,
          18993819,
          20210161,
          4527728,
          20495693,
          25978230,
          6858471,
          25338610,
          21290823,
          12670816,
          19874164,
          10408765,
          14883773,
          28082120,
          28475044,
          28667199,
          24346554,
          25360891,
          23520335,
          3769755,
          22324354,
          8167888,
          29441546,
          15516957,
          8803766,
          4905796,
          20709208,
          24190903,
          30026917,
          20026972,
          25756626,
          29915447,
          12243895,
          11321332,
          29286734,
          24362337,
          19725184,
          7825782,
          8136741,
          10123110,
          25439149,
          13292943,
          15347679,
          6033306,
          19112308,
          5123396,
          22955674,
          14840400,
          4040289,
          25666142,
          24643104,
          4377424,
          13316972,
          23491015,
          25932652,
          3588180,
          26581974,
          28496591,
          9342960,
          6371687,
          12273684,
          24681341,
          22035291,
          20197210,
          25483860,
          18701702,
          22463207,
          23178370,
          27578038,
          12051634,
          26339406,
          15743346,
          21392627,
          29864305,
          26843994,
          2579756,
          23299479,
          11975268,
          11113953,
          15938799,
          4883948,
          5838624,
          24773726,
          21141972,
          7416336,
          2645715,
          12918200,
          15476338,
          10350935,
          20673607,
          3166377,
          23115721,
          12147486,
          26680349,
          11127865,
          29037471,
          25115106,
          13649544,
          12740926,
          1885193,
          4612161,
          10106726,
          30757268,
          4572655,
          18185839,
          26654213,
          8637790,
          12017419,
          24880999,
          15908223,
          27943678,
          15914113,
          21009131,
          30545109,
          10858541,
          5367807,
          18495662,
          16299874,
          27602231,
          27292936,
          13774510,
          10367849,
          13446775,
          2861185,
          8204201,
          25116697,
          28083921,
          16080664,
          4855206,
          21497952,
          15151977,
          22690404,
          29396067,
          8321807,
          29609802,
          16338970,
          5205769,
          5386177,
          13631548,
          27549375,
          26237065,
          2054349,
          26001743,
          24834892,
          6233828,
          7874694,
          13999205,
          9500281,
          26251312,
          8301884,
          26220250,
          7966370,
          12678271,
          16547875,
          29074859,
          15334647,
          15544962,
          12242403,
          12528903,
          30290305,
          27903386,
          12761064,
          26742369,
          17612041,
          2958356,
          14934281,
          26037372,
          20838031,
          15604771,
          5845051,
          29066505,
          14491454,
          1599716,
          27990199,
          6510211,
          21042769,
          14822500,
          14646241,
          18035867,
          10849504,
          19336933,
          16049861,
          28094435,
          27552842,
          1420563,
          7795668,
          5453825,
          15782505,
          21758082,
          6017047,
          23673025,
          6104004,
          16388585,
          12842274,
          16871002,
          25952354,
          18920033,
          7030879,
          29846162,
          24696098,
          18603994,
          22259711,
          14351724,
          6233044,
          12022414,
          23668103,
          14902074,
          23901902,
          9387094,
          6416235,
          19015262,
          28443916,
          12276310,
          22210082,
          14909130,
          18741808,
          1323151,
          21775535,
          6811545,
          8537013,
          25110923,
          31224149,
          19070436,
          28222476,
          27310606,
          29310133,
          17966188,
          14856830,
          22387677,
          2589827,
          24261288,
          5383968,
          12399960,
          27254589,
          16363464,
          13293959,
          8015334,
          9867674,
          11530913,
          25596051,
          2955324,
          4242741,
          19222670,
          25059345,
          15889912,
          12009488,
          26246947,
          26276763,
          23301769,
          26335617,
          25717858,
          17070432,
          19861518,
          9807204,
          4267869,
          25615719,
          20018348,
          11961573,
          3366212,
          21025610,
          1536164,
          27294007,
          24590241,
          12271243,
          3863193,
          13042211,
          19717223,
          22334672,
          5020859,
          9238987,
          18466951,
          4783087,
          5709446,
          1670408,
          10758599,
          12684866,
          24913242,
          23278892,
          9566797,
          2750185,
          21372331,
          9490873,
          17482575,
          7148986,
          14183052,
          6293720,
          7326999,
          1450303,
          16997770,
          17738103,
          26598981,
          14295522,
          1433974,
          18845218,
          3042789,
          29172603,
          2178084,
          20158721,
          5355513,
          18546405,
          27287727,
          27849314,
          21858662,
          15155626,
          24068841,
          7144116,
          16994387,
          26319309,
          3510993,
          5249587,
          10886779,
          14672442,
          5836309,
          1474348,
          18986959,
          24384116,
          26989322,
          5759245,
          20271796,
          10677900,
          2763402,
          3042446,
          19560907,
          7391684,
          17378499,
          13276538,
          8461996,
          11199190,
          30028457,
          26654495,
          2664832,
          21958792,
          20799170,
          26400185,
          19211063,
          25262484,
          24021169,
          17760873,
          10124670,
          6716061,
          11618438,
          21302616,
          5876298,
          25189609,
          7591974,
          18595148,
          30842610,
          4790159,
          29418378,
          26411109,
          26641034,
          27911756,
          27490441,
          21355930,
          23535069,
          29874046,
          10021189,
          8418512,
          6335719,
          6500471,
          5114830,
          28253057,
          29911852,
          16324199,
          24773803,
          10090371,
          14984926,
          13234953,
          10636975,
          12484119,
          10121257,
          19511791,
          26758466,
          7885237,
          11467604,
          17022224,
          5255096,
          9335122,
          2679724,
          24059949,
          24563874,
          9645878,
          19442942,
          11416513,
          23473173,
          24637738,
          22346895,
          25231291,
          18917995,
          21887906,
          10446563,
          15500054,
          17448356,
          19965656,
          30887269,
          4725510,
          20007549,
          26116608,
          21777805,
          19680890,
          1593100,
          3827367,
          23861883,
          3942185,
          3065429,
          4504787,
          6086943,
          15138307,
          30059991,
          6194177,
          15283900,
          21496780,
          20219340,
          28815304,
          22130576,
          11889748,
          17065748,
          5649267,
          3613125,
          13046701,
          1900186,
          22518874,
          20052031,
          3777124,
          28191841,
          12753326,
          16954768,
          26733989,
          25659783,
          28824823,
          7655668,
          9791297,
          18883125,
          20064168,
          4573056,
          16691445,
          28326341,
          28701713,
          4955591,
          25123121,
          11028046,
          12417370,
          1280087,
          12796139,
          21470174,
          27944303,
          15556333,
          25551979,
          27058428,
          26590309,
          16843285,
          11323304,
          4443509,
          22675572,
          14745098,
          2943439,
          16120104,
          26497373,
          15946319,
          16879634,
          10365480,
          23359710,
          5161293,
          15425547,
          18938680,
          6808155,
          2153638,
          22703844,
          13515448,
          20998802,
          19466099,
          14379142,
          26573301,
          3566021,
          7466949,
          24051639,
          14876758,
          24060028,
          24753705,
          3511401,
          5507384,
          15341218,
          11054668,
          6300688,
          28260990,
          23188970,
          6615023,
          25623269,
          30365382,
          26672424,
          6178295,
          22767582,
          6560369,
          1558141,
          21672740,
          1858265,
          25944282,
          27174711,
          24459516,
          3787164,
          17137767,
          23687315,
          21550024,
          8466796,
          14844394,
          17827965,
          25959397,
          16027669,
          20131542,
          4011996,
          16524138,
          25536344,
          10185353,
          6113026,
          18174985,
          17463592,
          10568446,
          4477590,
          9340613,
          22501484,
          16211553,
          27488676,
          28775900,
          14620685,
          12472874,
          4258652,
          4394858,
          29390630,
          7908454,
          3555313,
          25021266,
          18372122,
          15570651,
          24660311,
          6573337,
          11015684,
          3697185,
          9197915,
          13367196,
          30938335,
          26951514,
          5188521,
          11253591,
          23149124,
          11376187,
          9809340,
          17353755,
          28622456,
          10136635,
          10327316,
          14257706,
          9371719,
          20142123,
          9440695,
          19542500,
          3002464,
          28683080,
          28566355,
          8814578,
          5069836,
          22812599,
          25955079,
          9848687,
          26347527,
          17478581,
          6109664,
          22068467,
          10196082,
          15936684,
          29304470,
          13999061,
          28657505,
          17361632,
          16060850,
          25748612,
          2462934,
          5638772,
          29950976,
          23121178,
          16480118,
          11080899,
          9752769,
          27613970,
          25783549,
          17771767,
          10028830,
          14880709,
          2352974,
          22380252,
          10743254,
          16603082,
          13986710,
          11260429,
          1136308,
          9865241,
          21280894,
          19698889,
          27741300,
          4195591,
          17167192,
          22088149,
          12417807,
          20320723,
          14335359,
          8530141,
          14263554,
          23218508,
          5948476,
          16185281,
          27544349,
          25868296,
          22693651,
          9037718,
          15321757,
          12888090,
          21750376,
          28910551,
          3072709,
          4899791,
          7385305,
          5206006,
          10126118,
          11761625,
          21061271,
          3751583,
          18309781,
          11632962,
          20957898,
          27347875,
          25288344,
          4023639,
          24148367,
          2993904,
          22745010,
          9335822,
          19163689,
          19425059,
          15830828,
          27508701,
          5836772,
          9513622,
          16034029,
          19869058,
          22797217,
          3358737,
          8931172,
          9307009,
          20099269,
          3016068,
          21326157,
          8544912,
          11311695,
          5767159,
          3756887,
          9351776,
          3364656,
          11776618,
          17097021,
          17295122,
          10556753,
          5228734,
          18105344,
          10374144,
          15217077,
          22294373,
          5635814,
          19617069,
          27845229,
          3444239,
          10501359,
          5838147,
          26813734,
          29557128,
          23045560,
          11233180,
          21611112,
          28373657,
          18639286,
          10783861,
          18318769,
          30573079,
          16067955,
          29807817,
          12644309,
          27540782,
          5692070,
          26027280,
          22576146,
          29508404,
          1267080,
          29833262,
          7215884,
          29992788,
          12378641,
          22144737,
          13087269,
          2326001
         ],
         "xaxis": "x",
         "yaxis": "y"
        }
       ],
       "layout": {
        "barmode": "relative",
        "legend": {
         "tracegroupgap": 0
        },
        "paper_bgcolor": "rgba(0,0,0,0)",
        "plot_bgcolor": "rgba(0,0,0,0)",
        "template": {
         "data": {
          "bar": [
           {
            "error_x": {
             "color": "#2a3f5f"
            },
            "error_y": {
             "color": "#2a3f5f"
            },
            "marker": {
             "line": {
              "color": "#E5ECF6",
              "width": 0.5
             },
             "pattern": {
              "fillmode": "overlay",
              "size": 10,
              "solidity": 0.2
             }
            },
            "type": "bar"
           }
          ],
          "barpolar": [
           {
            "marker": {
             "line": {
              "color": "#E5ECF6",
              "width": 0.5
             },
             "pattern": {
              "fillmode": "overlay",
              "size": 10,
              "solidity": 0.2
             }
            },
            "type": "barpolar"
           }
          ],
          "carpet": [
           {
            "aaxis": {
             "endlinecolor": "#2a3f5f",
             "gridcolor": "white",
             "linecolor": "white",
             "minorgridcolor": "white",
             "startlinecolor": "#2a3f5f"
            },
            "baxis": {
             "endlinecolor": "#2a3f5f",
             "gridcolor": "white",
             "linecolor": "white",
             "minorgridcolor": "white",
             "startlinecolor": "#2a3f5f"
            },
            "type": "carpet"
           }
          ],
          "choropleth": [
           {
            "colorbar": {
             "outlinewidth": 0,
             "ticks": ""
            },
            "type": "choropleth"
           }
          ],
          "contour": [
           {
            "colorbar": {
             "outlinewidth": 0,
             "ticks": ""
            },
            "colorscale": [
             [
              0,
              "#0d0887"
             ],
             [
              0.1111111111111111,
              "#46039f"
             ],
             [
              0.2222222222222222,
              "#7201a8"
             ],
             [
              0.3333333333333333,
              "#9c179e"
             ],
             [
              0.4444444444444444,
              "#bd3786"
             ],
             [
              0.5555555555555556,
              "#d8576b"
             ],
             [
              0.6666666666666666,
              "#ed7953"
             ],
             [
              0.7777777777777778,
              "#fb9f3a"
             ],
             [
              0.8888888888888888,
              "#fdca26"
             ],
             [
              1,
              "#f0f921"
             ]
            ],
            "type": "contour"
           }
          ],
          "contourcarpet": [
           {
            "colorbar": {
             "outlinewidth": 0,
             "ticks": ""
            },
            "type": "contourcarpet"
           }
          ],
          "heatmap": [
           {
            "colorbar": {
             "outlinewidth": 0,
             "ticks": ""
            },
            "colorscale": [
             [
              0,
              "#0d0887"
             ],
             [
              0.1111111111111111,
              "#46039f"
             ],
             [
              0.2222222222222222,
              "#7201a8"
             ],
             [
              0.3333333333333333,
              "#9c179e"
             ],
             [
              0.4444444444444444,
              "#bd3786"
             ],
             [
              0.5555555555555556,
              "#d8576b"
             ],
             [
              0.6666666666666666,
              "#ed7953"
             ],
             [
              0.7777777777777778,
              "#fb9f3a"
             ],
             [
              0.8888888888888888,
              "#fdca26"
             ],
             [
              1,
              "#f0f921"
             ]
            ],
            "type": "heatmap"
           }
          ],
          "heatmapgl": [
           {
            "colorbar": {
             "outlinewidth": 0,
             "ticks": ""
            },
            "colorscale": [
             [
              0,
              "#0d0887"
             ],
             [
              0.1111111111111111,
              "#46039f"
             ],
             [
              0.2222222222222222,
              "#7201a8"
             ],
             [
              0.3333333333333333,
              "#9c179e"
             ],
             [
              0.4444444444444444,
              "#bd3786"
             ],
             [
              0.5555555555555556,
              "#d8576b"
             ],
             [
              0.6666666666666666,
              "#ed7953"
             ],
             [
              0.7777777777777778,
              "#fb9f3a"
             ],
             [
              0.8888888888888888,
              "#fdca26"
             ],
             [
              1,
              "#f0f921"
             ]
            ],
            "type": "heatmapgl"
           }
          ],
          "histogram": [
           {
            "marker": {
             "pattern": {
              "fillmode": "overlay",
              "size": 10,
              "solidity": 0.2
             }
            },
            "type": "histogram"
           }
          ],
          "histogram2d": [
           {
            "colorbar": {
             "outlinewidth": 0,
             "ticks": ""
            },
            "colorscale": [
             [
              0,
              "#0d0887"
             ],
             [
              0.1111111111111111,
              "#46039f"
             ],
             [
              0.2222222222222222,
              "#7201a8"
             ],
             [
              0.3333333333333333,
              "#9c179e"
             ],
             [
              0.4444444444444444,
              "#bd3786"
             ],
             [
              0.5555555555555556,
              "#d8576b"
             ],
             [
              0.6666666666666666,
              "#ed7953"
             ],
             [
              0.7777777777777778,
              "#fb9f3a"
             ],
             [
              0.8888888888888888,
              "#fdca26"
             ],
             [
              1,
              "#f0f921"
             ]
            ],
            "type": "histogram2d"
           }
          ],
          "histogram2dcontour": [
           {
            "colorbar": {
             "outlinewidth": 0,
             "ticks": ""
            },
            "colorscale": [
             [
              0,
              "#0d0887"
             ],
             [
              0.1111111111111111,
              "#46039f"
             ],
             [
              0.2222222222222222,
              "#7201a8"
             ],
             [
              0.3333333333333333,
              "#9c179e"
             ],
             [
              0.4444444444444444,
              "#bd3786"
             ],
             [
              0.5555555555555556,
              "#d8576b"
             ],
             [
              0.6666666666666666,
              "#ed7953"
             ],
             [
              0.7777777777777778,
              "#fb9f3a"
             ],
             [
              0.8888888888888888,
              "#fdca26"
             ],
             [
              1,
              "#f0f921"
             ]
            ],
            "type": "histogram2dcontour"
           }
          ],
          "mesh3d": [
           {
            "colorbar": {
             "outlinewidth": 0,
             "ticks": ""
            },
            "type": "mesh3d"
           }
          ],
          "parcoords": [
           {
            "line": {
             "colorbar": {
              "outlinewidth": 0,
              "ticks": ""
             }
            },
            "type": "parcoords"
           }
          ],
          "pie": [
           {
            "automargin": true,
            "type": "pie"
           }
          ],
          "scatter": [
           {
            "fillpattern": {
             "fillmode": "overlay",
             "size": 10,
             "solidity": 0.2
            },
            "type": "scatter"
           }
          ],
          "scatter3d": [
           {
            "line": {
             "colorbar": {
              "outlinewidth": 0,
              "ticks": ""
             }
            },
            "marker": {
             "colorbar": {
              "outlinewidth": 0,
              "ticks": ""
             }
            },
            "type": "scatter3d"
           }
          ],
          "scattercarpet": [
           {
            "marker": {
             "colorbar": {
              "outlinewidth": 0,
              "ticks": ""
             }
            },
            "type": "scattercarpet"
           }
          ],
          "scattergeo": [
           {
            "marker": {
             "colorbar": {
              "outlinewidth": 0,
              "ticks": ""
             }
            },
            "type": "scattergeo"
           }
          ],
          "scattergl": [
           {
            "marker": {
             "colorbar": {
              "outlinewidth": 0,
              "ticks": ""
             }
            },
            "type": "scattergl"
           }
          ],
          "scattermapbox": [
           {
            "marker": {
             "colorbar": {
              "outlinewidth": 0,
              "ticks": ""
             }
            },
            "type": "scattermapbox"
           }
          ],
          "scatterpolar": [
           {
            "marker": {
             "colorbar": {
              "outlinewidth": 0,
              "ticks": ""
             }
            },
            "type": "scatterpolar"
           }
          ],
          "scatterpolargl": [
           {
            "marker": {
             "colorbar": {
              "outlinewidth": 0,
              "ticks": ""
             }
            },
            "type": "scatterpolargl"
           }
          ],
          "scatterternary": [
           {
            "marker": {
             "colorbar": {
              "outlinewidth": 0,
              "ticks": ""
             }
            },
            "type": "scatterternary"
           }
          ],
          "surface": [
           {
            "colorbar": {
             "outlinewidth": 0,
             "ticks": ""
            },
            "colorscale": [
             [
              0,
              "#0d0887"
             ],
             [
              0.1111111111111111,
              "#46039f"
             ],
             [
              0.2222222222222222,
              "#7201a8"
             ],
             [
              0.3333333333333333,
              "#9c179e"
             ],
             [
              0.4444444444444444,
              "#bd3786"
             ],
             [
              0.5555555555555556,
              "#d8576b"
             ],
             [
              0.6666666666666666,
              "#ed7953"
             ],
             [
              0.7777777777777778,
              "#fb9f3a"
             ],
             [
              0.8888888888888888,
              "#fdca26"
             ],
             [
              1,
              "#f0f921"
             ]
            ],
            "type": "surface"
           }
          ],
          "table": [
           {
            "cells": {
             "fill": {
              "color": "#EBF0F8"
             },
             "line": {
              "color": "white"
             }
            },
            "header": {
             "fill": {
              "color": "#C8D4E3"
             },
             "line": {
              "color": "white"
             }
            },
            "type": "table"
           }
          ]
         },
         "layout": {
          "annotationdefaults": {
           "arrowcolor": "#2a3f5f",
           "arrowhead": 0,
           "arrowwidth": 1
          },
          "autotypenumbers": "strict",
          "coloraxis": {
           "colorbar": {
            "outlinewidth": 0,
            "ticks": ""
           }
          },
          "colorscale": {
           "diverging": [
            [
             0,
             "#8e0152"
            ],
            [
             0.1,
             "#c51b7d"
            ],
            [
             0.2,
             "#de77ae"
            ],
            [
             0.3,
             "#f1b6da"
            ],
            [
             0.4,
             "#fde0ef"
            ],
            [
             0.5,
             "#f7f7f7"
            ],
            [
             0.6,
             "#e6f5d0"
            ],
            [
             0.7,
             "#b8e186"
            ],
            [
             0.8,
             "#7fbc41"
            ],
            [
             0.9,
             "#4d9221"
            ],
            [
             1,
             "#276419"
            ]
           ],
           "sequential": [
            [
             0,
             "#0d0887"
            ],
            [
             0.1111111111111111,
             "#46039f"
            ],
            [
             0.2222222222222222,
             "#7201a8"
            ],
            [
             0.3333333333333333,
             "#9c179e"
            ],
            [
             0.4444444444444444,
             "#bd3786"
            ],
            [
             0.5555555555555556,
             "#d8576b"
            ],
            [
             0.6666666666666666,
             "#ed7953"
            ],
            [
             0.7777777777777778,
             "#fb9f3a"
            ],
            [
             0.8888888888888888,
             "#fdca26"
            ],
            [
             1,
             "#f0f921"
            ]
           ],
           "sequentialminus": [
            [
             0,
             "#0d0887"
            ],
            [
             0.1111111111111111,
             "#46039f"
            ],
            [
             0.2222222222222222,
             "#7201a8"
            ],
            [
             0.3333333333333333,
             "#9c179e"
            ],
            [
             0.4444444444444444,
             "#bd3786"
            ],
            [
             0.5555555555555556,
             "#d8576b"
            ],
            [
             0.6666666666666666,
             "#ed7953"
            ],
            [
             0.7777777777777778,
             "#fb9f3a"
            ],
            [
             0.8888888888888888,
             "#fdca26"
            ],
            [
             1,
             "#f0f921"
            ]
           ]
          },
          "colorway": [
           "#636efa",
           "#EF553B",
           "#00cc96",
           "#ab63fa",
           "#FFA15A",
           "#19d3f3",
           "#FF6692",
           "#B6E880",
           "#FF97FF",
           "#FECB52"
          ],
          "font": {
           "color": "#2a3f5f"
          },
          "geo": {
           "bgcolor": "white",
           "lakecolor": "white",
           "landcolor": "#E5ECF6",
           "showlakes": true,
           "showland": true,
           "subunitcolor": "white"
          },
          "hoverlabel": {
           "align": "left"
          },
          "hovermode": "closest",
          "mapbox": {
           "style": "light"
          },
          "paper_bgcolor": "white",
          "plot_bgcolor": "#E5ECF6",
          "polar": {
           "angularaxis": {
            "gridcolor": "white",
            "linecolor": "white",
            "ticks": ""
           },
           "bgcolor": "#E5ECF6",
           "radialaxis": {
            "gridcolor": "white",
            "linecolor": "white",
            "ticks": ""
           }
          },
          "scene": {
           "xaxis": {
            "backgroundcolor": "#E5ECF6",
            "gridcolor": "white",
            "gridwidth": 2,
            "linecolor": "white",
            "showbackground": true,
            "ticks": "",
            "zerolinecolor": "white"
           },
           "yaxis": {
            "backgroundcolor": "#E5ECF6",
            "gridcolor": "white",
            "gridwidth": 2,
            "linecolor": "white",
            "showbackground": true,
            "ticks": "",
            "zerolinecolor": "white"
           },
           "zaxis": {
            "backgroundcolor": "#E5ECF6",
            "gridcolor": "white",
            "gridwidth": 2,
            "linecolor": "white",
            "showbackground": true,
            "ticks": "",
            "zerolinecolor": "white"
           }
          },
          "shapedefaults": {
           "line": {
            "color": "#2a3f5f"
           }
          },
          "ternary": {
           "aaxis": {
            "gridcolor": "white",
            "linecolor": "white",
            "ticks": ""
           },
           "baxis": {
            "gridcolor": "white",
            "linecolor": "white",
            "ticks": ""
           },
           "bgcolor": "#E5ECF6",
           "caxis": {
            "gridcolor": "white",
            "linecolor": "white",
            "ticks": ""
           }
          },
          "title": {
           "x": 0.05
          },
          "xaxis": {
           "automargin": true,
           "gridcolor": "white",
           "linecolor": "white",
           "ticks": "",
           "title": {
            "standoff": 15
           },
           "zerolinecolor": "white",
           "zerolinewidth": 2
          },
          "yaxis": {
           "automargin": true,
           "gridcolor": "white",
           "linecolor": "white",
           "ticks": "",
           "title": {
            "standoff": 15
           },
           "zerolinecolor": "white",
           "zerolinewidth": 2
          }
         }
        },
        "title": {
         "font": {
          "family": "Arial",
          "size": 18
         },
         "text": "Distribution of Population_2024"
        },
        "xaxis": {
         "anchor": "y",
         "domain": [
          0,
          1
         ],
         "title": {
          "text": "Population_2024"
         }
        },
        "yaxis": {
         "anchor": "x",
         "domain": [
          0,
          1
         ],
         "title": {
          "text": "Count"
         }
        }
       }
      }
     },
     "metadata": {},
     "output_type": "display_data"
    }
   ],
   "source": [
    "import plotly.express as px\n",
    "import pandas as pd\n",
    "\n",
    "# Assuming df is already defined and contains the data\n",
    "\n",
    "# Define the columns you want to plot\n",
    "columns = ['City', 'Country', 'Population_2023', 'Growth_Rate (%)', 'Population_2024']\n",
    "# Iterate through each column and create a bar chart or histogram\n",
    "for column in columns:\n",
    "    try:\n",
    "        if column not in df.columns:\n",
    "            print(f\"Column {column} does not exist in the DataFrame\")\n",
    "            continue\n",
    "        \n",
    "        # Check if the column is suitable for a bar chart\n",
    "        if df[column].dtype == 'object' or df[column].dtype.name == 'category':\n",
    "            # Count the occurrences of each unique value\n",
    "            column_counts = df[column].value_counts().reset_index()\n",
    "            column_counts.columns = [column, 'count']\n",
    "            \n",
    "            # Create a bar chart using plotly.express\n",
    "            fig = px.bar(\n",
    "                column_counts,\n",
    "                x=column,\n",
    "                y='count',\n",
    "                title=f'Distribution of {column}',\n",
    "               \n",
    "                labels={column: column, 'count': 'Count'},\n",
    "                text='count'\n",
    "            )\n",
    "            \n",
    "            # Update layout for better readability\n",
    "            fig.update_layout(\n",
    "                xaxis_title=column,\n",
    "                yaxis_title='Count',\n",
    "                paper_bgcolor='rgba(0,0,0,0)',\n",
    "                plot_bgcolor='rgba(0,0,0,0)',\n",
    "                title_font=dict(size=18, family=\"Arial\"),\n",
    "                 \n",
    "                xaxis={'categoryorder': 'total descending'}\n",
    "               \n",
    "\n",
    "            )\n",
    "            \n",
    "            # Show the figure\n",
    "            fig.show()\n",
    "\n",
    "        elif df[column].dtype in ['int64', 'float64']:\n",
    "            # Create a histogram for numerical columns\n",
    "            fig = px.histogram(\n",
    "                df,\n",
    "                x=column,\n",
    "                title=f'Distribution of {column}',\n",
    "                labels={column: column, 'count': 'Count'}\n",
    "            )\n",
    "            \n",
    "            # Update layout for better readability\n",
    "            fig.update_layout(\n",
    "                xaxis_title=column,\n",
    "                yaxis_title='Count',\n",
    "                \n",
    "                paper_bgcolor='rgba(0,0,0,0)',\n",
    "                plot_bgcolor='rgba(0,0,0,0)',\n",
    "                title_font=dict(size=18, family=\"Arial\")\n",
    "            )\n",
    "            \n",
    "            # Show the figure\n",
    "            fig.show()\n",
    "    \n",
    "    except Exception as e:\n",
    "        print(f\"Could not create plot for column {column}: {e}\")"
   ]
  },
  {
   "cell_type": "code",
   "execution_count": 28,
   "metadata": {},
   "outputs": [
    {
     "data": {
      "image/png": "[encoded data removed]",
      "text/plain": [
       "<Figure size 1000x500 with 1 Axes>"
      ]
     },
     "metadata": {},
     "output_type": "display_data"
    }
   ],
   "source": [
    "import matplotlib.pyplot as plt\n",
    "from wordcloud import WordCloud, STOPWORDS\n",
    "from collections import Counter\n",
    "import pandas as pd\n",
    "\n",
    "# Assuming `dataset` is your DataFrame and `stop_words_list` is a list of stopwords\n",
    "\n",
    "# Example stopwords list, modify as needed\n",
    "stop_words_list = set(STOPWORDS)\n",
    "\n",
    "# Generate frequency counts from the 'business_category' column\n",
    "counts = Counter(df[\"City\"].dropna().apply(lambda x: str(x)))\n",
    "\n",
    "# Generate the word cloud\n",
    "wcc = WordCloud(\n",
    "    background_color=\"black\",\n",
    "    width=1600, height=800,\n",
    "    max_words=2000,\n",
    "    stopwords=stop_words_list\n",
    ")\n",
    "wcc.generate_from_frequencies(counts)\n",
    "\n",
    "# Display the word cloud\n",
    "plt.figure(figsize=(10, 5), facecolor='k')\n",
    "plt.imshow(wcc, interpolation='bilinear')\n",
    "plt.axis(\"off\")\n",
    "plt.tight_layout(pad=0)\n",
    "plt.show()"
   ]
  }
 ],
 "metadata": {
  "kernelspec": {
   "display_name": "Python 3",
   "language": "python",
   "name": "python3"
  },
  "language_info": {
   "codemirror_mode": {
    "name": "ipython",
    "version": 3
   },
   "file_extension": ".py",
   "mimetype": "text/x-python",
   "name": "python",
   "nbconvert_exporter": "python",
   "pygments_lexer": "ipython3",
   "version": "3.11.0"
  }
 },
 "nbformat": 4,
 "nbformat_minor": 2
}
