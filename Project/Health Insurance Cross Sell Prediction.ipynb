{
 "cells": [
  {
   "cell_type": "code",
   "execution_count": 1,
   "metadata": {},
   "outputs": [],
   "source": [
    "import numpy as np\n",
    "import pandas as pd\n",
    "import gc\n",
    "from sklearn.metrics import roc_auc_score\n",
    "from sklearn.model_selection import train_test_split\n",
    "\n",
    "# LightAutoML presets, task and report generation\n",
    "from lightautoml.automl.presets.tabular_presets import TabularAutoML\n",
    "from lightautoml.tasks import Task"
   ]
  },
  {
   "cell_type": "code",
   "execution_count": 3,
   "metadata": {},
   "outputs": [],
   "source": [
    "train = pd.read_csv(r'C:\\Users\\satis\\OneDrive\\Desktop\\Data Science\\DataSet\\playground-series-s4e7\\train.csv', index_col='id')\n",
    "test = pd.read_csv(r'C:\\Users\\satis\\OneDrive\\Desktop\\Data Science\\\\DataSet\\playground-series-s4e7\\test.csv', index_col='id')"
   ]
  },
  {
   "cell_type": "code",
   "execution_count": 4,
   "metadata": {},
   "outputs": [],
   "source": [
    "X_train, X_val = train_test_split(train, test_size=0.2, random_state=42, shuffle=True, stratify=train.Response)"
   ]
  },
  {
   "cell_type": "code",
   "execution_count": 7,
   "metadata": {},
   "outputs": [],
   "source": [
    "task = Task('binary') #‘binary’ \n",
    "automl = TabularAutoML(\n",
    "    task = task, \n",
    "    timeout = 300,#600 * 3600,\n",
    "    cpu_limit = 2,\n",
    "    gpu_ids = '0',\n",
    "    general_params = {\"use_algos\": [['denselight']]},\n",
    "    nn_params = {\n",
    "        \"n_epochs\": 10, \n",
    "        \"bs\": 1024, \n",
    "        \"num_workers\": 0, \n",
    "        \"path_to_save\": None, \n",
    "        \"freeze_defaults\": True,\n",
    "        \"cont_embedder\": 'plr',\n",
    "        'cat_embedder': 'weighted',\n",
    "        'act_fun': 'SiLU',\n",
    "        \"hidden_size\": [512, 128], #32,\n",
    "        'stop_by_metric': True,\n",
    "        'embedding_size': 32,\n",
    "        'verbose_bar': True,\n",
    "        \"snap_params\": { 'k': 2, 'early_stopping': True, 'patience': 1, 'swa': True }, \n",
    "        'opt_params': { 'lr': 0.0003 , 'weight_decay': 0 }\n",
    "    },\n",
    "    nn_pipeline_params = {\"use_qnt\": True, \"use_te\": False},\n",
    "    reader_params = {'n_jobs': 1, 'cv': 5, 'random_state': 42, 'advanced_roles': True}\n",
    ")\n",
    "\n"
   ]
  },
  {
   "cell_type": "code",
   "execution_count": 9,
   "metadata": {},
   "outputs": [
    {
     "name": "stdout",
     "output_type": "stream",
     "text": [
      "[22:48:20] Stdout logging level is DEBUG.\n",
      "[22:48:20] Task: binary\n",
      "\n",
      "[22:48:20] Start automl preset with listed constraints:\n",
      "[22:48:20] - time: 300.00 seconds\n",
      "[22:48:20] - CPU: 2 cores\n",
      "[22:48:20] - memory: 16 GB\n",
      "\n",
      "[22:48:20] \u001b[1mTrain data shape: (9203838, 11)\u001b[0m\n",
      "\n",
      "[22:48:29] Feats was rejected during automatic roles guess: []\n",
      "[22:48:29] Layer \u001b[1m1\u001b[0m train process start. Time left 290.94 secs\n",
      "[22:48:51] number of text features: 0 \n",
      "[22:48:51] number of categorical features: 8 \n",
      "[22:48:51] number of continuous features: 2 \n"
     ]
    },
    {
     "name": "stderr",
     "output_type": "stream",
     "text": [
      "train (loss=0.2491): 100%|██████████| 8988/8988 [18:21<00:00,  8.16it/s]  \n",
      "val: 100%|██████████| 2248/2248 [01:54<00:00, 19.55it/s]\n"
     ]
    },
    {
     "name": "stdout",
     "output_type": "stream",
     "text": [
      "[23:09:12] Epoch: 0, train loss: 0.24909962713718414, val loss: 0.24440772831439972, val metric: 0.890978893707482\n"
     ]
    },
    {
     "name": "stderr",
     "output_type": "stream",
     "text": [
      "train (loss=0.242869): 100%|██████████| 8988/8988 [13:51<00:00, 10.81it/s]\n",
      "val: 100%|██████████| 2248/2248 [01:56<00:00, 19.32it/s]\n"
     ]
    },
    {
     "name": "stdout",
     "output_type": "stream",
     "text": [
      "[23:25:02] Epoch: 1, train loss: 0.24286898970603943, val loss: 0.2428414225578308, val metric: 0.8920264361969843\n"
     ]
    },
    {
     "name": "stderr",
     "output_type": "stream",
     "text": [
      "train (loss=0.241009): 100%|██████████| 8988/8988 [13:40<00:00, 10.96it/s]\n",
      "val: 100%|██████████| 2248/2248 [18:12<00:00,  2.06it/s]   \n"
     ]
    },
    {
     "name": "stdout",
     "output_type": "stream",
     "text": [
      "[23:56:57] Epoch: 2, train loss: 0.24100887775421143, val loss: 0.242805615067482, val metric: 0.8920922775296694\n"
     ]
    },
    {
     "name": "stderr",
     "output_type": "stream",
     "text": [
      "train (loss=0.239401): 100%|██████████| 8988/8988 [19:22<00:00,  7.73it/s]\n",
      "val: 100%|██████████| 2248/2248 [02:47<00:00, 13.44it/s]\n"
     ]
    },
    {
     "name": "stdout",
     "output_type": "stream",
     "text": [
      "[00:19:09] Epoch: 3, train loss: 0.2394014447927475, val loss: 0.24285581707954407, val metric: 0.8920530368858552\n"
     ]
    },
    {
     "name": "stderr",
     "output_type": "stream",
     "text": [
      "train (loss=0.237905): 100%|██████████| 8988/8988 [18:59<00:00,  7.89it/s]\n",
      "val: 100%|██████████| 2248/2248 [02:58<00:00, 12.57it/s]\n"
     ]
    },
    {
     "name": "stdout",
     "output_type": "stream",
     "text": [
      "[00:41:10] Epoch: 4, train loss: 0.23790539801120758, val loss: 0.24323755502700806, val metric: 0.8917466926020413\n"
     ]
    },
    {
     "name": "stderr",
     "output_type": "stream",
     "text": [
      "val: 100%|██████████| 2248/2248 [02:36<00:00, 14.38it/s]\n"
     ]
    },
    {
     "name": "stdout",
     "output_type": "stream",
     "text": [
      "[00:43:49] Early stopping: val loss: 0.2425648421049118, val metric: 0.8923657195890699\n",
      "[00:43:49] \u001b[1mLvl_0_Pipe_0_Mod_0_TorchNN_denselight_0\u001b[0m fitting and predicting completed\n",
      "[00:43:49] Time left -6628.87 secs\n",
      "\n",
      "[00:43:49] Time limit exceeded. Last level models will be blended and unused pipelines will be pruned.\n",
      "\n",
      "[00:43:49] \u001b[1mLayer 1 training completed.\u001b[0m\n",
      "\n",
      "[00:43:50] \u001b[1mAutoml preset training completed in 6929.49 seconds\u001b[0m\n",
      "\n",
      "[00:43:50] Model description:\n",
      "Final prediction for new objects (level 0) = \n",
      "\t 1.00000 * (1 averaged models Lvl_0_Pipe_0_Mod_0_TorchNN_denselight_0) \n",
      "\n"
     ]
    }
   ],
   "source": [
    "out_of_fold_predictions = automl.fit_predict(\n",
    "    X_train, valid_data=X_val,\n",
    "    roles = {\n",
    "        'target': 'Response',\n",
    "        'drop': [ ],\n",
    "    }, \n",
    "    verbose = 4\n",
    ")"
   ]
  },
  {
   "cell_type": "code",
   "execution_count": 10,
   "metadata": {},
   "outputs": [
    {
     "data": {
      "text/plain": [
       "0"
      ]
     },
     "execution_count": 10,
     "metadata": {},
     "output_type": "execute_result"
    }
   ],
   "source": [
    "gc.collect()"
   ]
  },
  {
   "cell_type": "code",
   "execution_count": 16,
   "metadata": {},
   "outputs": [],
   "source": [
    "# Assuming out_of_fold_predictions.data is a NumPy array\n",
    "data = out_of_fold_predictions.data\n",
    "\n",
    "# Convert the NumPy array to a pandas DataFrame\n",
    "df = pd.DataFrame(data)\n",
    "\n",
    "# Save the DataFrame to a CSV file\n",
    "df.to_csv('oof_DenceLight_LightAutoML_dsLightAutoMLlgb.csv', index=False)"
   ]
  },
  {
   "cell_type": "code",
   "execution_count": 19,
   "metadata": {},
   "outputs": [
    {
     "name": "stderr",
     "output_type": "stream",
     "text": [
      "test: 100%|██████████| 7491/7491 [05:18<00:00, 23.54it/s]\n"
     ]
    }
   ],
   "source": [
    "pred_proba = automl.predict(test).data[:,  0]"
   ]
  },
  {
   "cell_type": "code",
   "execution_count": 25,
   "metadata": {},
   "outputs": [],
   "source": [
    "pred_proba.to_csv('pred_proba_DenceLight_LightAutoML_dsLightAutoMLlgb.csv', index=None)"
   ]
  },
  {
   "cell_type": "code",
   "execution_count": 24,
   "metadata": {},
   "outputs": [],
   "source": [
    "pred_proba = pd.DataFrame(pred_proba)\n",
    "pred_proba.to_csv(r'C:\\Users\\satis\\OneDrive\\Desktop\\Data Science\\DataSet\\playground-series-s4e7\\sample_submission.csv', index=None)"
   ]
  },
  {
   "cell_type": "code",
   "execution_count": 28,
   "metadata": {},
   "outputs": [],
   "source": [
    "ss = pd.read_csv(r'C:\\Users\\satis\\OneDrive\\Desktop\\Data Science\\DataSet\\playground-series-s4e7\\sample_submission.csv')"
   ]
  },
  {
   "cell_type": "code",
   "execution_count": null,
   "metadata": {},
   "outputs": [
    {
     "name": "stderr",
     "output_type": "stream",
     "text": [
      "test: 100%|██████████| 7491/7491 [05:18<00:00, 23.54it/s]\n"
     ]
    }
   ],
   "source": [
    "pred_proba = automl.predict(test).data[:,  0]"
   ]
  },
  {
   "cell_type": "code",
   "execution_count": null,
   "metadata": {},
   "outputs": [
    {
     "name": "stderr",
     "output_type": "stream",
     "text": [
      "test: 100%|██████████| 7491/7491 [05:18<00:00, 23.54it/s]\n"
     ]
    }
   ],
   "source": [
    "pred_proba = automl.predict(test).data[:,  0]"
   ]
  },
  {
   "cell_type": "code",
   "execution_count": null,
   "metadata": {},
   "outputs": [
    {
     "name": "stderr",
     "output_type": "stream",
     "text": [
      "test: 100%|██████████| 7491/7491 [05:18<00:00, 23.54it/s]\n"
     ]
    }
   ],
   "source": [
    "pred_proba = automl.predict(test).data[:,  0]"
   ]
  },
  {
   "cell_type": "code",
   "execution_count": null,
   "metadata": {},
   "outputs": [
    {
     "name": "stderr",
     "output_type": "stream",
     "text": [
      "test: 100%|██████████| 7491/7491 [05:18<00:00, 23.54it/s]\n"
     ]
    }
   ],
   "source": [
    "pred_proba = automl.predict(test).data[:,  0]"
   ]
  },
  {
   "cell_type": "code",
   "execution_count": null,
   "metadata": {},
   "outputs": [],
   "source": []
  }
 ],
 "metadata": {
  "kernelspec": {
   "display_name": "Python 3",
   "language": "python",
   "name": "python3"
  },
  "language_info": {
   "codemirror_mode": {
    "name": "ipython",
    "version": 3
   },
   "file_extension": ".py",
   "mimetype": "text/x-python",
   "name": "python",
   "nbconvert_exporter": "python",
   "pygments_lexer": "ipython3",
   "version": "3.11.0"
  }
 },
 "nbformat": 4,
 "nbformat_minor": 2
}
